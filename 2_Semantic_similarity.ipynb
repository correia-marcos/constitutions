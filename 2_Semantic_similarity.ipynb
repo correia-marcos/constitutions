{
 "cells": [
  {
   "cell_type": "code",
   "execution_count": 5,
   "metadata": {
    "colab": {
     "base_uri": "https://localhost:8080/"
    },
    "executionInfo": {
     "elapsed": 2119,
     "status": "ok",
     "timestamp": 1645093943293,
     "user": {
      "displayName": "Marcos Paulo Rodrigues Correia",
      "photoUrl": "https://lh3.googleusercontent.com/a-/AOh14GgJJKVzauVFgeqxJF7cNAYzylzNqf6TKVFoGJkHkQ=s64",
      "userId": "17171710957942158078"
     },
     "user_tz": 180
    },
    "id": "xRWekXCuLkMu",
    "outputId": "8ac20071-4504-40bf-8108-b0ce460aabd8"
   },
   "outputs": [
    {
     "name": "stdout",
     "output_type": "stream",
     "text": [
      "Drive already mounted at /content/drive; to attempt to forcibly remount, call drive.mount(\"/content/drive\", force_remount=True).\n"
     ]
    }
   ],
   "source": [
    "from google.colab import drive\n",
    "drive.mount('/content/drive')"
   ]
  },
  {
   "cell_type": "code",
   "execution_count": 6,
   "metadata": {
    "colab": {
     "base_uri": "https://localhost:8080/"
    },
    "executionInfo": {
     "elapsed": 13,
     "status": "ok",
     "timestamp": 1645093944668,
     "user": {
      "displayName": "Marcos Paulo Rodrigues Correia",
      "photoUrl": "https://lh3.googleusercontent.com/a-/AOh14GgJJKVzauVFgeqxJF7cNAYzylzNqf6TKVFoGJkHkQ=s64",
      "userId": "17171710957942158078"
     },
     "user_tz": 180
    },
    "id": "SKKoirBAL_Ac",
    "outputId": "c7336ca0-69f3-46da-816d-83aafd9dcdbc"
   },
   "outputs": [
    {
     "name": "stdout",
     "output_type": "stream",
     "text": [
      "/content/drive/My Drive/Projects/Constitutions\n"
     ]
    }
   ],
   "source": [
    "import os\n",
    "!pwd\n",
    "os.chdir(r'/content/drive/MyDrive/Projects/Constitutions')"
   ]
  },
  {
   "cell_type": "markdown",
   "metadata": {
    "id": "I-N1p5yEY8rU"
   },
   "source": [
    "***If you already have the packages jump this code***"
   ]
  },
  {
   "cell_type": "code",
   "execution_count": 7,
   "metadata": {
    "colab": {
     "base_uri": "https://localhost:8080/"
    },
    "executionInfo": {
     "elapsed": 25347,
     "status": "ok",
     "timestamp": 1645093971842,
     "user": {
      "displayName": "Marcos Paulo Rodrigues Correia",
      "photoUrl": "https://lh3.googleusercontent.com/a-/AOh14GgJJKVzauVFgeqxJF7cNAYzylzNqf6TKVFoGJkHkQ=s64",
      "userId": "17171710957942158078"
     },
     "user_tz": 180
    },
    "id": "tBKR2NhZMrdF",
    "outputId": "0e2c100e-48b6-4fc9-d65e-bfa1c61325bb"
   },
   "outputs": [
    {
     "name": "stdout",
     "output_type": "stream",
     "text": [
      "/content/drive/MyDrive/Projects/Constitutions\n",
      "Found existing installation: spacy 3.2.2\n",
      "Uninstalling spacy-3.2.2:\n",
      "  Would remove:\n",
      "    /usr/local/bin/spacy\n",
      "    /usr/local/lib/python3.7/dist-packages/spacy-3.2.2.dist-info/*\n",
      "    /usr/local/lib/python3.7/dist-packages/spacy/*\n",
      "Proceed (y/n)? n\n",
      "Requirement already satisfied: spacy in /usr/local/lib/python3.7/dist-packages (3.2.2)\n",
      "Requirement already satisfied: blis<0.8.0,>=0.4.0 in /usr/local/lib/python3.7/dist-packages (from spacy) (0.4.1)\n",
      "Requirement already satisfied: numpy>=1.15.0 in /usr/local/lib/python3.7/dist-packages (from spacy) (1.21.5)\n",
      "Requirement already satisfied: typer<0.5.0,>=0.3.0 in /usr/local/lib/python3.7/dist-packages (from spacy) (0.4.0)\n",
      "Requirement already satisfied: srsly<3.0.0,>=2.4.1 in /usr/local/lib/python3.7/dist-packages (from spacy) (2.4.2)\n",
      "Requirement already satisfied: spacy-legacy<3.1.0,>=3.0.8 in /usr/local/lib/python3.7/dist-packages (from spacy) (3.0.8)\n",
      "Requirement already satisfied: jinja2 in /usr/local/lib/python3.7/dist-packages (from spacy) (2.11.3)\n",
      "Requirement already satisfied: packaging>=20.0 in /usr/local/lib/python3.7/dist-packages (from spacy) (21.3)\n",
      "Requirement already satisfied: spacy-loggers<2.0.0,>=1.0.0 in /usr/local/lib/python3.7/dist-packages (from spacy) (1.0.1)\n",
      "Requirement already satisfied: pydantic!=1.8,!=1.8.1,<1.9.0,>=1.7.4 in /usr/local/lib/python3.7/dist-packages (from spacy) (1.8.2)\n",
      "Requirement already satisfied: setuptools in /usr/local/lib/python3.7/dist-packages (from spacy) (57.4.0)\n",
      "Requirement already satisfied: wasabi<1.1.0,>=0.8.1 in /usr/local/lib/python3.7/dist-packages (from spacy) (0.9.0)\n",
      "Requirement already satisfied: murmurhash<1.1.0,>=0.28.0 in /usr/local/lib/python3.7/dist-packages (from spacy) (1.0.6)\n",
      "Requirement already satisfied: preshed<3.1.0,>=3.0.2 in /usr/local/lib/python3.7/dist-packages (from spacy) (3.0.6)\n",
      "Requirement already satisfied: cymem<2.1.0,>=2.0.2 in /usr/local/lib/python3.7/dist-packages (from spacy) (2.0.6)\n",
      "Requirement already satisfied: langcodes<4.0.0,>=3.2.0 in /usr/local/lib/python3.7/dist-packages (from spacy) (3.3.0)\n",
      "Requirement already satisfied: typing-extensions<4.0.0.0,>=3.7.4 in /usr/local/lib/python3.7/dist-packages (from spacy) (3.10.0.2)\n",
      "Requirement already satisfied: thinc<8.1.0,>=8.0.12 in /usr/local/lib/python3.7/dist-packages (from spacy) (8.0.13)\n",
      "Requirement already satisfied: catalogue<2.1.0,>=2.0.6 in /usr/local/lib/python3.7/dist-packages (from spacy) (2.0.6)\n",
      "Requirement already satisfied: tqdm<5.0.0,>=4.38.0 in /usr/local/lib/python3.7/dist-packages (from spacy) (4.62.3)\n",
      "Requirement already satisfied: requests<3.0.0,>=2.13.0 in /usr/local/lib/python3.7/dist-packages (from spacy) (2.23.0)\n",
      "Requirement already satisfied: pathy>=0.3.5 in /usr/local/lib/python3.7/dist-packages (from spacy) (0.6.1)\n",
      "Requirement already satisfied: zipp>=0.5 in /usr/local/lib/python3.7/dist-packages (from catalogue<2.1.0,>=2.0.6->spacy) (3.7.0)\n",
      "Requirement already satisfied: pyparsing!=3.0.5,>=2.0.2 in /usr/local/lib/python3.7/dist-packages (from packaging>=20.0->spacy) (3.0.7)\n",
      "Requirement already satisfied: smart-open<6.0.0,>=5.0.0 in /usr/local/lib/python3.7/dist-packages (from pathy>=0.3.5->spacy) (5.2.1)\n",
      "Requirement already satisfied: chardet<4,>=3.0.2 in /usr/local/lib/python3.7/dist-packages (from requests<3.0.0,>=2.13.0->spacy) (3.0.4)\n",
      "Requirement already satisfied: urllib3!=1.25.0,!=1.25.1,<1.26,>=1.21.1 in /usr/local/lib/python3.7/dist-packages (from requests<3.0.0,>=2.13.0->spacy) (1.24.3)\n",
      "Requirement already satisfied: certifi>=2017.4.17 in /usr/local/lib/python3.7/dist-packages (from requests<3.0.0,>=2.13.0->spacy) (2021.10.8)\n",
      "Requirement already satisfied: idna<3,>=2.5 in /usr/local/lib/python3.7/dist-packages (from requests<3.0.0,>=2.13.0->spacy) (2.10)\n",
      "Requirement already satisfied: click<9.0.0,>=7.1.1 in /usr/local/lib/python3.7/dist-packages (from typer<0.5.0,>=0.3.0->spacy) (7.1.2)\n",
      "Requirement already satisfied: MarkupSafe>=0.23 in /usr/local/lib/python3.7/dist-packages (from jinja2->spacy) (2.0.1)\n",
      "Requirement already satisfied: spacy-universal-sentence-encoder in /usr/local/lib/python3.7/dist-packages (0.4.3)\n",
      "Requirement already satisfied: tensorflow<3.0.0,>=2.4.0 in /usr/local/lib/python3.7/dist-packages (from spacy-universal-sentence-encoder) (2.8.0)\n",
      "Requirement already satisfied: tensorflow-hub in /usr/local/lib/python3.7/dist-packages (from spacy-universal-sentence-encoder) (0.12.0)\n",
      "Requirement already satisfied: spacy<4.0.0,>=3.0.0 in /usr/local/lib/python3.7/dist-packages (from spacy-universal-sentence-encoder) (3.2.2)\n",
      "Requirement already satisfied: spacy-legacy<3.1.0,>=3.0.8 in /usr/local/lib/python3.7/dist-packages (from spacy<4.0.0,>=3.0.0->spacy-universal-sentence-encoder) (3.0.8)\n",
      "Requirement already satisfied: catalogue<2.1.0,>=2.0.6 in /usr/local/lib/python3.7/dist-packages (from spacy<4.0.0,>=3.0.0->spacy-universal-sentence-encoder) (2.0.6)\n",
      "Requirement already satisfied: typing-extensions<4.0.0.0,>=3.7.4 in /usr/local/lib/python3.7/dist-packages (from spacy<4.0.0,>=3.0.0->spacy-universal-sentence-encoder) (3.10.0.2)\n",
      "Requirement already satisfied: typer<0.5.0,>=0.3.0 in /usr/local/lib/python3.7/dist-packages (from spacy<4.0.0,>=3.0.0->spacy-universal-sentence-encoder) (0.4.0)\n",
      "Requirement already satisfied: murmurhash<1.1.0,>=0.28.0 in /usr/local/lib/python3.7/dist-packages (from spacy<4.0.0,>=3.0.0->spacy-universal-sentence-encoder) (1.0.6)\n",
      "Requirement already satisfied: thinc<8.1.0,>=8.0.12 in /usr/local/lib/python3.7/dist-packages (from spacy<4.0.0,>=3.0.0->spacy-universal-sentence-encoder) (8.0.13)\n",
      "Requirement already satisfied: tqdm<5.0.0,>=4.38.0 in /usr/local/lib/python3.7/dist-packages (from spacy<4.0.0,>=3.0.0->spacy-universal-sentence-encoder) (4.62.3)\n",
      "Requirement already satisfied: spacy-loggers<2.0.0,>=1.0.0 in /usr/local/lib/python3.7/dist-packages (from spacy<4.0.0,>=3.0.0->spacy-universal-sentence-encoder) (1.0.1)\n",
      "Requirement already satisfied: cymem<2.1.0,>=2.0.2 in /usr/local/lib/python3.7/dist-packages (from spacy<4.0.0,>=3.0.0->spacy-universal-sentence-encoder) (2.0.6)\n",
      "Requirement already satisfied: langcodes<4.0.0,>=3.2.0 in /usr/local/lib/python3.7/dist-packages (from spacy<4.0.0,>=3.0.0->spacy-universal-sentence-encoder) (3.3.0)\n",
      "Requirement already satisfied: preshed<3.1.0,>=3.0.2 in /usr/local/lib/python3.7/dist-packages (from spacy<4.0.0,>=3.0.0->spacy-universal-sentence-encoder) (3.0.6)\n",
      "Requirement already satisfied: packaging>=20.0 in /usr/local/lib/python3.7/dist-packages (from spacy<4.0.0,>=3.0.0->spacy-universal-sentence-encoder) (21.3)\n",
      "Requirement already satisfied: wasabi<1.1.0,>=0.8.1 in /usr/local/lib/python3.7/dist-packages (from spacy<4.0.0,>=3.0.0->spacy-universal-sentence-encoder) (0.9.0)\n",
      "Requirement already satisfied: numpy>=1.15.0 in /usr/local/lib/python3.7/dist-packages (from spacy<4.0.0,>=3.0.0->spacy-universal-sentence-encoder) (1.21.5)\n",
      "Requirement already satisfied: srsly<3.0.0,>=2.4.1 in /usr/local/lib/python3.7/dist-packages (from spacy<4.0.0,>=3.0.0->spacy-universal-sentence-encoder) (2.4.2)\n",
      "Requirement already satisfied: pathy>=0.3.5 in /usr/local/lib/python3.7/dist-packages (from spacy<4.0.0,>=3.0.0->spacy-universal-sentence-encoder) (0.6.1)\n",
      "Requirement already satisfied: pydantic!=1.8,!=1.8.1,<1.9.0,>=1.7.4 in /usr/local/lib/python3.7/dist-packages (from spacy<4.0.0,>=3.0.0->spacy-universal-sentence-encoder) (1.8.2)\n",
      "Requirement already satisfied: blis<0.8.0,>=0.4.0 in /usr/local/lib/python3.7/dist-packages (from spacy<4.0.0,>=3.0.0->spacy-universal-sentence-encoder) (0.4.1)\n",
      "Requirement already satisfied: requests<3.0.0,>=2.13.0 in /usr/local/lib/python3.7/dist-packages (from spacy<4.0.0,>=3.0.0->spacy-universal-sentence-encoder) (2.23.0)\n",
      "Requirement already satisfied: setuptools in /usr/local/lib/python3.7/dist-packages (from spacy<4.0.0,>=3.0.0->spacy-universal-sentence-encoder) (57.4.0)\n",
      "Requirement already satisfied: jinja2 in /usr/local/lib/python3.7/dist-packages (from spacy<4.0.0,>=3.0.0->spacy-universal-sentence-encoder) (2.11.3)\n",
      "Requirement already satisfied: zipp>=0.5 in /usr/local/lib/python3.7/dist-packages (from catalogue<2.1.0,>=2.0.6->spacy<4.0.0,>=3.0.0->spacy-universal-sentence-encoder) (3.7.0)\n",
      "Requirement already satisfied: pyparsing!=3.0.5,>=2.0.2 in /usr/local/lib/python3.7/dist-packages (from packaging>=20.0->spacy<4.0.0,>=3.0.0->spacy-universal-sentence-encoder) (3.0.7)\n",
      "Requirement already satisfied: smart-open<6.0.0,>=5.0.0 in /usr/local/lib/python3.7/dist-packages (from pathy>=0.3.5->spacy<4.0.0,>=3.0.0->spacy-universal-sentence-encoder) (5.2.1)\n",
      "Requirement already satisfied: idna<3,>=2.5 in /usr/local/lib/python3.7/dist-packages (from requests<3.0.0,>=2.13.0->spacy<4.0.0,>=3.0.0->spacy-universal-sentence-encoder) (2.10)\n",
      "Requirement already satisfied: urllib3!=1.25.0,!=1.25.1,<1.26,>=1.21.1 in /usr/local/lib/python3.7/dist-packages (from requests<3.0.0,>=2.13.0->spacy<4.0.0,>=3.0.0->spacy-universal-sentence-encoder) (1.24.3)\n",
      "Requirement already satisfied: certifi>=2017.4.17 in /usr/local/lib/python3.7/dist-packages (from requests<3.0.0,>=2.13.0->spacy<4.0.0,>=3.0.0->spacy-universal-sentence-encoder) (2021.10.8)\n",
      "Requirement already satisfied: chardet<4,>=3.0.2 in /usr/local/lib/python3.7/dist-packages (from requests<3.0.0,>=2.13.0->spacy<4.0.0,>=3.0.0->spacy-universal-sentence-encoder) (3.0.4)\n",
      "Requirement already satisfied: google-pasta>=0.1.1 in /usr/local/lib/python3.7/dist-packages (from tensorflow<3.0.0,>=2.4.0->spacy-universal-sentence-encoder) (0.2.0)\n",
      "Requirement already satisfied: tensorboard<2.9,>=2.8 in /usr/local/lib/python3.7/dist-packages (from tensorflow<3.0.0,>=2.4.0->spacy-universal-sentence-encoder) (2.8.0)\n",
      "Requirement already satisfied: protobuf>=3.9.2 in /usr/local/lib/python3.7/dist-packages (from tensorflow<3.0.0,>=2.4.0->spacy-universal-sentence-encoder) (3.17.3)\n",
      "Requirement already satisfied: keras<2.9,>=2.8.0rc0 in /usr/local/lib/python3.7/dist-packages (from tensorflow<3.0.0,>=2.4.0->spacy-universal-sentence-encoder) (2.8.0)\n",
      "Requirement already satisfied: gast>=0.2.1 in /usr/local/lib/python3.7/dist-packages (from tensorflow<3.0.0,>=2.4.0->spacy-universal-sentence-encoder) (0.5.3)\n",
      "Requirement already satisfied: astunparse>=1.6.0 in /usr/local/lib/python3.7/dist-packages (from tensorflow<3.0.0,>=2.4.0->spacy-universal-sentence-encoder) (1.6.3)\n",
      "Requirement already satisfied: tf-estimator-nightly==2.8.0.dev2021122109 in /usr/local/lib/python3.7/dist-packages (from tensorflow<3.0.0,>=2.4.0->spacy-universal-sentence-encoder) (2.8.0.dev2021122109)\n",
      "Requirement already satisfied: termcolor>=1.1.0 in /usr/local/lib/python3.7/dist-packages (from tensorflow<3.0.0,>=2.4.0->spacy-universal-sentence-encoder) (1.1.0)\n",
      "Requirement already satisfied: wrapt>=1.11.0 in /usr/local/lib/python3.7/dist-packages (from tensorflow<3.0.0,>=2.4.0->spacy-universal-sentence-encoder) (1.13.3)\n",
      "Requirement already satisfied: absl-py>=0.4.0 in /usr/local/lib/python3.7/dist-packages (from tensorflow<3.0.0,>=2.4.0->spacy-universal-sentence-encoder) (1.0.0)\n",
      "Requirement already satisfied: grpcio<2.0,>=1.24.3 in /usr/local/lib/python3.7/dist-packages (from tensorflow<3.0.0,>=2.4.0->spacy-universal-sentence-encoder) (1.43.0)\n",
      "Requirement already satisfied: keras-preprocessing>=1.1.1 in /usr/local/lib/python3.7/dist-packages (from tensorflow<3.0.0,>=2.4.0->spacy-universal-sentence-encoder) (1.1.2)\n",
      "Requirement already satisfied: libclang>=9.0.1 in /usr/local/lib/python3.7/dist-packages (from tensorflow<3.0.0,>=2.4.0->spacy-universal-sentence-encoder) (13.0.0)\n",
      "Requirement already satisfied: tensorflow-io-gcs-filesystem>=0.23.1 in /usr/local/lib/python3.7/dist-packages (from tensorflow<3.0.0,>=2.4.0->spacy-universal-sentence-encoder) (0.24.0)\n",
      "Requirement already satisfied: h5py>=2.9.0 in /usr/local/lib/python3.7/dist-packages (from tensorflow<3.0.0,>=2.4.0->spacy-universal-sentence-encoder) (3.1.0)\n",
      "Requirement already satisfied: flatbuffers>=1.12 in /usr/local/lib/python3.7/dist-packages (from tensorflow<3.0.0,>=2.4.0->spacy-universal-sentence-encoder) (2.0)\n",
      "Requirement already satisfied: six>=1.12.0 in /usr/local/lib/python3.7/dist-packages (from tensorflow<3.0.0,>=2.4.0->spacy-universal-sentence-encoder) (1.15.0)\n",
      "Requirement already satisfied: opt-einsum>=2.3.2 in /usr/local/lib/python3.7/dist-packages (from tensorflow<3.0.0,>=2.4.0->spacy-universal-sentence-encoder) (3.3.0)\n",
      "Requirement already satisfied: wheel<1.0,>=0.23.0 in /usr/local/lib/python3.7/dist-packages (from astunparse>=1.6.0->tensorflow<3.0.0,>=2.4.0->spacy-universal-sentence-encoder) (0.37.1)\n",
      "Requirement already satisfied: cached-property in /usr/local/lib/python3.7/dist-packages (from h5py>=2.9.0->tensorflow<3.0.0,>=2.4.0->spacy-universal-sentence-encoder) (1.5.2)\n",
      "Requirement already satisfied: tensorboard-plugin-wit>=1.6.0 in /usr/local/lib/python3.7/dist-packages (from tensorboard<2.9,>=2.8->tensorflow<3.0.0,>=2.4.0->spacy-universal-sentence-encoder) (1.8.1)\n",
      "Requirement already satisfied: markdown>=2.6.8 in /usr/local/lib/python3.7/dist-packages (from tensorboard<2.9,>=2.8->tensorflow<3.0.0,>=2.4.0->spacy-universal-sentence-encoder) (3.3.6)\n",
      "Requirement already satisfied: tensorboard-data-server<0.7.0,>=0.6.0 in /usr/local/lib/python3.7/dist-packages (from tensorboard<2.9,>=2.8->tensorflow<3.0.0,>=2.4.0->spacy-universal-sentence-encoder) (0.6.1)\n",
      "Requirement already satisfied: werkzeug>=0.11.15 in /usr/local/lib/python3.7/dist-packages (from tensorboard<2.9,>=2.8->tensorflow<3.0.0,>=2.4.0->spacy-universal-sentence-encoder) (1.0.1)\n",
      "Requirement already satisfied: google-auth<3,>=1.6.3 in /usr/local/lib/python3.7/dist-packages (from tensorboard<2.9,>=2.8->tensorflow<3.0.0,>=2.4.0->spacy-universal-sentence-encoder) (1.35.0)\n",
      "Requirement already satisfied: google-auth-oauthlib<0.5,>=0.4.1 in /usr/local/lib/python3.7/dist-packages (from tensorboard<2.9,>=2.8->tensorflow<3.0.0,>=2.4.0->spacy-universal-sentence-encoder) (0.4.6)\n",
      "Requirement already satisfied: pyasn1-modules>=0.2.1 in /usr/local/lib/python3.7/dist-packages (from google-auth<3,>=1.6.3->tensorboard<2.9,>=2.8->tensorflow<3.0.0,>=2.4.0->spacy-universal-sentence-encoder) (0.2.8)\n",
      "Requirement already satisfied: rsa<5,>=3.1.4 in /usr/local/lib/python3.7/dist-packages (from google-auth<3,>=1.6.3->tensorboard<2.9,>=2.8->tensorflow<3.0.0,>=2.4.0->spacy-universal-sentence-encoder) (4.8)\n",
      "Requirement already satisfied: cachetools<5.0,>=2.0.0 in /usr/local/lib/python3.7/dist-packages (from google-auth<3,>=1.6.3->tensorboard<2.9,>=2.8->tensorflow<3.0.0,>=2.4.0->spacy-universal-sentence-encoder) (4.2.4)\n",
      "Requirement already satisfied: requests-oauthlib>=0.7.0 in /usr/local/lib/python3.7/dist-packages (from google-auth-oauthlib<0.5,>=0.4.1->tensorboard<2.9,>=2.8->tensorflow<3.0.0,>=2.4.0->spacy-universal-sentence-encoder) (1.3.1)\n",
      "Requirement already satisfied: importlib-metadata>=4.4 in /usr/local/lib/python3.7/dist-packages (from markdown>=2.6.8->tensorboard<2.9,>=2.8->tensorflow<3.0.0,>=2.4.0->spacy-universal-sentence-encoder) (4.11.0)\n",
      "Requirement already satisfied: pyasn1<0.5.0,>=0.4.6 in /usr/local/lib/python3.7/dist-packages (from pyasn1-modules>=0.2.1->google-auth<3,>=1.6.3->tensorboard<2.9,>=2.8->tensorflow<3.0.0,>=2.4.0->spacy-universal-sentence-encoder) (0.4.8)\n",
      "Requirement already satisfied: oauthlib>=3.0.0 in /usr/local/lib/python3.7/dist-packages (from requests-oauthlib>=0.7.0->google-auth-oauthlib<0.5,>=0.4.1->tensorboard<2.9,>=2.8->tensorflow<3.0.0,>=2.4.0->spacy-universal-sentence-encoder) (3.2.0)\n",
      "Requirement already satisfied: click<9.0.0,>=7.1.1 in /usr/local/lib/python3.7/dist-packages (from typer<0.5.0,>=0.3.0->spacy<4.0.0,>=3.0.0->spacy-universal-sentence-encoder) (7.1.2)\n",
      "Requirement already satisfied: MarkupSafe>=0.23 in /usr/local/lib/python3.7/dist-packages (from jinja2->spacy<4.0.0,>=3.0.0->spacy-universal-sentence-encoder) (2.0.1)\n",
      "Requirement already satisfied: pickle5 in /usr/local/lib/python3.7/dist-packages (0.0.12)\n",
      "Requirement already satisfied: nltk in /usr/local/lib/python3.7/dist-packages (3.2.5)\n",
      "Requirement already satisfied: six in /usr/local/lib/python3.7/dist-packages (from nltk) (1.15.0)\n",
      "Requirement already satisfied: gensim in /usr/local/lib/python3.7/dist-packages (3.6.0)\n",
      "Requirement already satisfied: six>=1.5.0 in /usr/local/lib/python3.7/dist-packages (from gensim) (1.15.0)\n",
      "Requirement already satisfied: numpy>=1.11.3 in /usr/local/lib/python3.7/dist-packages (from gensim) (1.21.5)\n",
      "Requirement already satisfied: smart-open>=1.2.1 in /usr/local/lib/python3.7/dist-packages (from gensim) (5.2.1)\n",
      "Requirement already satisfied: scipy>=0.18.1 in /usr/local/lib/python3.7/dist-packages (from gensim) (1.4.1)\n"
     ]
    }
   ],
   "source": [
    "!pwd\n",
    "!pip uninstall spacy\n",
    "!pip install spacy\n",
    "!pip install spacy-universal-sentence-encoder\n",
    "!pip3 install pickle5\n",
    "!pip install nltk\n",
    "!pip install gensim"
   ]
  },
  {
   "cell_type": "code",
   "execution_count": 8,
   "metadata": {
    "colab": {
     "base_uri": "https://localhost:8080/"
    },
    "executionInfo": {
     "elapsed": 3102,
     "status": "ok",
     "timestamp": 1645093974920,
     "user": {
      "displayName": "Marcos Paulo Rodrigues Correia",
      "photoUrl": "https://lh3.googleusercontent.com/a-/AOh14GgJJKVzauVFgeqxJF7cNAYzylzNqf6TKVFoGJkHkQ=s64",
      "userId": "17171710957942158078"
     },
     "user_tz": 180
    },
    "id": "d3nJLhO000Qv",
    "outputId": "6d9bbe9d-e6d4-420c-b41f-71ad54c470ea"
   },
   "outputs": [
    {
     "name": "stdout",
     "output_type": "stream",
     "text": [
      "Requirement already satisfied: pickle5 in /usr/local/lib/python3.7/dist-packages (0.0.12)\n"
     ]
    }
   ],
   "source": [
    "!pip install pickle5"
   ]
  },
  {
   "cell_type": "markdown",
   "metadata": {
    "id": "m5nikjMXZIUu"
   },
   "source": [
    "**Making necessary imports**"
   ]
  },
  {
   "cell_type": "code",
   "execution_count": 9,
   "metadata": {
    "executionInfo": {
     "elapsed": 10843,
     "status": "ok",
     "timestamp": 1645093989275,
     "user": {
      "displayName": "Marcos Paulo Rodrigues Correia",
      "photoUrl": "https://lh3.googleusercontent.com/a-/AOh14GgJJKVzauVFgeqxJF7cNAYzylzNqf6TKVFoGJkHkQ=s64",
      "userId": "17171710957942158078"
     },
     "user_tz": 180
    },
    "id": "EF08hN0ENKdP"
   },
   "outputs": [],
   "source": [
    "import pickle5 as pickle\n",
    "import logging\n",
    "import warnings\n",
    "import os\n",
    "\n",
    "import pandas as pd\n",
    "# import spacy\n",
    "import spacy_universal_sentence_encoder as spacy_USE\n",
    "import nltk\n",
    "from nltk.corpus import stopwords\n",
    "import gensim\n",
    "from gensim.parsing.preprocessing import STOPWORDS\n",
    "from gensim.utils import simple_preprocess"
   ]
  },
  {
   "cell_type": "code",
   "execution_count": null,
   "metadata": {
    "id": "9T4gRE4NSOb5"
   },
   "outputs": [],
   "source": [
    "#import pickle5 as pickle\n",
    "#import pandas as pd"
   ]
  },
  {
   "cell_type": "code",
   "execution_count": null,
   "metadata": {
    "id": "6I6x7Tw5Orod"
   },
   "outputs": [],
   "source": [
    "\"\"\"From LDA.py we take open the saved DataFrame. Remember that Text data\n",
    "have already been processed in this DataFrame (applied Lemmatization,\n",
    "removing stopwords...).\"\"\"\n",
    "\n",
    "folder = r'./df_total_all_set.pkl'\n",
    "with open(folder, \"rb\") as fh:\n",
    "  df = pickle.load(fh)"
   ]
  },
  {
   "cell_type": "code",
   "execution_count": null,
   "metadata": {
    "id": "PHdT8AugNXIa"
   },
   "outputs": [],
   "source": [
    "# Not important to understand, make it easier to see running code\n",
    "warnings.filterwarnings(\"ignore\", category=DeprecationWarning)\n",
    "logging.basicConfig(format='%(asctime)s : %(levelname)s : %(message)s',\n",
    "                    level=logging.INFO)"
   ]
  },
  {
   "cell_type": "code",
   "execution_count": null,
   "metadata": {
    "id": "1h4Jmfs0Nckd"
   },
   "outputs": [],
   "source": [
    "df = df.sort_values(by=['country', 'year'])\n",
    "text = df.constitution_lemma.to_list()"
   ]
  },
  {
   "cell_type": "markdown",
   "metadata": {
    "id": "uP46OvpXU3yw"
   },
   "source": [
    "**It's important to remove all stopwords that for some reason Spacy can't remove. In the next step you can see that spacy will remove all stopwords words it finds, but after some runs in the program, we saw that this process was not perfect for our application (although great).**"
   ]
  },
  {
   "cell_type": "code",
   "execution_count": null,
   "metadata": {
    "colab": {
     "base_uri": "https://localhost:8080/"
    },
    "executionInfo": {
     "elapsed": 8,
     "status": "ok",
     "timestamp": 1644856694336,
     "user": {
      "displayName": "Marcos Paulo Rodrigues Correia",
      "photoUrl": "https://lh3.googleusercontent.com/a-/AOh14GgJJKVzauVFgeqxJF7cNAYzylzNqf6TKVFoGJkHkQ=s64",
      "userId": "17171710957942158078"
     },
     "user_tz": 180
    },
    "id": "aubaCL1-PhCR",
    "outputId": "55541f95-2c0f-4910-dac5-871e2bfb8d67"
   },
   "outputs": [
    {
     "name": "stdout",
     "output_type": "stream",
     "text": [
      "[nltk_data] Downloading package stopwords to /root/nltk_data...\n",
      "[nltk_data]   Package stopwords is already up-to-date!\n"
     ]
    }
   ],
   "source": [
    "gensim_stop = STOPWORDS\n",
    "nltk.download('stopwords')\n",
    "stop_words = stopwords.words('english')\n",
    "stop_words.extend(['from', 'subject', 're', 'edu', 'use', 'vi', 'vii', 'viii',\n",
    "                   'xi', 'xii', 'xv', 'xvii', '+', 'shall', 'iii', '*'', ii',\n",
    "                   '©', 'bibliography', '<', '>', '/', 'iv', 'ix', 'may',\n",
    "                   'constitution', 'country', 'shall'])\n",
    "stop_words.extend(gensim_stop)\n",
    "stop_words.extend(['sub', 'clause', 'article'])"
   ]
  },
  {
   "cell_type": "code",
   "execution_count": null,
   "metadata": {
    "id": "7AFObHXcQpso"
   },
   "outputs": [],
   "source": [
    "\n",
    "def sent_to_words(sentences):\n",
    "    \"\"\"Do a simple tokenization.\"\"\"\n",
    "    for sentence in sentences:\n",
    "        yield(gensim.utils.simple_preprocess(str(sentence), deacc=True))\n",
    "\n",
    "data_words = list(sent_to_words(text))\n",
    "\n",
    "# Define functions for stopwords\n",
    "def remove_stopwords(texts):\n",
    "    \"\"\"Remove stopwords.\"\"\"\n",
    "    return [[word for word in simple_preprocess(str(doc)) if word not in\n",
    "             stop_words] for doc in texts]\n",
    "\n",
    "# Applying the functions just defined\n",
    "data_words_nostops = remove_stopwords(data_words)"
   ]
  },
  {
   "cell_type": "code",
   "execution_count": null,
   "metadata": {
    "id": "eli-YEtiVivs"
   },
   "outputs": [],
   "source": [
    "processed_text = [' '.join(item) for item in data_words_nostops]"
   ]
  },
  {
   "cell_type": "code",
   "execution_count": null,
   "metadata": {
    "colab": {
     "base_uri": "https://localhost:8080/"
    },
    "executionInfo": {
     "elapsed": 39,
     "status": "ok",
     "timestamp": 1644856744453,
     "user": {
      "displayName": "Marcos Paulo Rodrigues Correia",
      "photoUrl": "https://lh3.googleusercontent.com/a-/AOh14GgJJKVzauVFgeqxJF7cNAYzylzNqf6TKVFoGJkHkQ=s64",
      "userId": "17171710957942158078"
     },
     "user_tz": 180
    },
    "id": "QCZklrNbWDkx",
    "outputId": "0b3ce357-da45-48eb-d892-a8417950e575"
   },
   "outputs": [
    {
     "name": "stdout",
     "output_type": "stream",
     "text": [
      "['afghanistan completely free independent administration domestic foreign affair parts area authority majesty king treat single unit discrimination different religion afghanistan sacred religion islam follower religion jews hindus reside afghanistan entitled protection state prode disturb public peace kabul capital afghanistan people afghanistan entitle receive equal treatment government people kabul entitled special prilege etended people city llage ew etraordinary serce render cause progress independence afghan nation majesty king noble nation afghanistan pledge royal succession line principle male inheritance selection majesty people afghanistan majesty king ascend throne pledge nobles people rule accordance principle enunciate sharia protect independence remain faithful nation majesty king servant protector true religion islam ruler king afghanistan affair administer minister government select appoint king minister responsible ministry king responsible mention king khutba friday prayers mint coin king determination rank official accordance appropriate law awarding medal decoration selection appointment dismissal transfer prime minister minister ratification public law promulgation protection public law sharia commander chief armed forces afghanistan promulgation protection military rule regulation declare war peace treaty grant amnesty pardon commute legal punishment right majesty king general right afghanistan person reside kingdom afghanistan respect religious sectarian difference consider afghanistan afghan citizenship obtain lose accordance prosion appropriate law afghanistan endowed personal liberty prohibit encroaching liberty personal freedom immune form olation encroachment person arrest punish pursuant order issue sharia court accordance prosion appropriate law principle slavery completely abolished man woman employ slaves press publication domestic newspaper free accordance appropriate press law right publish newspaper reserve government citizens afghanistan foreign publication regulate restrict government afghanistan right organize private company purpose commerce industry agriculture accordance prosion respective law afghanistan right submit indidual collective petition government official redress act commit official sharia law appropriate case petition heed citizen appeal successively high authority case feel aggrieved appeal directly king afghanistan right education cost accordance appropriate curriculum foreigner permit operate schools afghanistan bar employ teacher schools afghanistan control supersion inspection government charge develop scientific national education citizens basis unity discipline method teaching belief religion protect refugee hindus jews interfere afghanistan equal right duty accordance sharia law state afghanistan eligible employment cil serce accordance qualification ability need government determine form taation collect accordance appropriate law proportion wealth power citizen afghanistan real personal property possession protect real property require government public purpose accordance prosion special law price property pay epropriate dwelling home afghan sacrosanct government official olate home permission process law courts justice dispute case decide accordance principle sharia general cil criminal law confiscation forced labor absolutely prohibit ecept time war labor serce require accordance prosion appropriate law ecept prode law state nizamnamah requisition type torture prohibit punishment impose person ecept prode general penal code military penal code minister responsibility administration government vest council ministers independent department idarah yemustaqel chairman council ministers majesty king absence acting chairman prime minister absence minister heading ranking ministry acting minister appoint absence minister acting minister authority right minister special high assembly darbar ali convene year independence celebration day determine majesty king assembly chairmanship majesty king compose high official government elder people nobles select specially king assembly minister heads independent department report open session achievement serce render past year majesty king select appoint prime minister minister council minister formulate foreign domestic policy government decision council ministers treaty agreement matter require ratification majesty king effective ratification minister eecute duty appropriate ministry etent authority matter appropriate decision king refer matter governed regulation council minister refer council minister discuss matter refer accordance special law sign decision ew epress council minister responsible majesty king regard general policy government indidual responsibility minister oral communication command majesty king minister reduced writing sign king trial official misconduct minister place high court diwan ali accordance special law matter trial personal misconduct outside purew official duty place courts justice ordinary citizen minister accuse high court suspend official duty pende outcome trial size organization ministry office duty prescribe law entitle basic organization government afghanistan nizamnamah ye tashkilat asasiyah afghanistan government official official appoint basis competence accordance appropriate law official dismiss resign misconduct best government official maintain good performance record consider worthy promotion eventual pension duty official appropriate legislation official responsible performance duty accordance legislation official require obey lawful order superiors order deem official sanction law duty refer matter central authority ministry eecute illegal order refer central authority ministry consider equally responsible official order proncial council state council establish state council capital kingdom local council pronce district centers council act adsory body membership state local adsory council consist appoint elect member appoint member adsory council official enumerate law basic organization government afghanistan appoint member state council directly select appoint king number appoint member equal number elect member elect member select appoint people separate law basic organization government afghanistan prescribe election procedures member state local council addition duty prescribe basic organization law list suggestion government improvement industry commerce agriculture education petition government regard irregularity matter taation general government administration ew demanding remedial action complain government regard olation basic right confer people list suggestion petition complaint adsory council present instance governor eecutive official district pertain council governor local official appropriate measures scope authority measures scope authority forward matter appropriate ministry turn necessary action appropriate case proceed accordance hereof matter legal nature accordance hereof month present petition suggestion complaint governor local official adsory council receive reply initiative forward matter directly state council state council prepare opinion case forward appropriate ministry ministry delay action case state council forward directly majesty king legislation prepared propose government scrutinize state council pass council minister eamination approve body forward majesty king ratification legislation law land addition permanent appoint member state council certain high ranking cil servant military official rank district proncial governors governors general military rank lewa mishr brigadier general respectively appoint temporary member state council appointment new post proded relieve duty awaiting trial state council reew yearly budget prepare ministry finance manner prescribe general law budget nizamnamah ye bujet state council reew contract treaty agreement government foreigner courts trial courts justice public proded certain special matter enumerate general law courts nizamnamah ye mohakam judge prescribe closed trial citizen person appear court justice legitimate mean insure protection right court justice delay hearing settling case duty hear courts justice free type interference intervention type hierarchy courts set forth law basic organization government afghanistan special court hear adjudicate special case issue establish outside framework regular judiciary high court high court establish temporary basis time time special purpose trial minister complete task dissolve organization procedure high court prescribe special law financial affair collection state tais accordance general law taation yearly budget income ependitures government prepared revenue ependitures government accordance budget end year financial report prepare relate accrual revenue ependitures preous year detailed budget accordance special law pass purpose auditing office establish principal function auditing office inquire report revenue ependitures government actually coincide prescribe budget organization implementation financial report budget prescribe special law pass purpose administration pronce proncial administration base basic principle list authority clear delineation duty clear determination responsibility list duty proncial official determine basis principle accordance pertinent law authority official likewise limited principle law official responsible superior basis branch office ministry establish pronce citizens depend matter initially recourse branch office help solve problems solution problems citizen official ministry branches official dispose case accordance law aggrieved citizen recourse superior official ministry branch necessary district proncial governors governors general organization functions duty municipality set forth special law municipality nizamnamah ye baladiyah military government military administration proclaim government sign disobedience rebellion disturb public security miscellaneous elementary education compulsory citizens afghanistan curriculum branch knowledge detailed special law implement cancel suspend reason cause amend case necessity proposal member state council follow approval council ministers ratification majesty king necessary clarification interpretation law state refer council state following correction eplanation council state approval council ministers print publish process legislation actual ling condition people eigency time particularly requirement law sharia careful consideration security personal correspondence right citizens communication handle post office secure search inspection deliver addressee condition receive court order issue permitting inspection approve unanimously minister government representative nation gather grand council loya jirga eastern pronce mashriqi member grand council sign seal document successful foundation ealted state afghanistan command include law government implement', 'general principles faith afghanistan sacred faith islam official religion population general hanafi religion king afghanistan follower religion follower religion hindus jews live afghanistan prode infringe ordinary rule conduct propriety enjoy protection afghan government enjoy complete independence administration internal eternal affair place kingdom constitute single entity command ealted direction majesty king distinction different kingdom city kabul capital afghanistan resident kingdom equal eye government resident city kabul special right compare city town afghan kingdom official flag afghanistan black red green bear center ear wheat mihrab arch pulpit right king appreciation devotion serce render majesty ghazi mohammad nadir shah afghan obtain independence deliverance land afghanistan uprooting oppression despotism afghan nation general recognize majesty fit worthy king accept great esteem respect majesty king time accession throne independent afghanistan publicly undertake presence representative nobility afghanistan carry administration accordance dictate epounder sacred shariat holy prophet peace hanafi religion fundamental principle regard preservation independence afghanistan important duty true nation infringe mention stipulation noble afghan nation agree crown afghanistan transfer family king desire progress succession throne accordance selection majesty people afghanistan king afghanistan accession throne sign follow declaration chamber national council presence member swear almighty god sacred koran know god glorious omnipresent omniscient rule accord shariat mahomet peace fundamental rule protection glorious religion islam independence afghanistan right nation defence progress prosperity help god blessing sacred spiritual force blessed saint approval god friday sermon king mention coin realm bear right follow vest king bestowal rank office award honor appointment prime minister sanction appointment transfer dismissal minister assent measure pass national council proclamation enforcement protection carry shariat cil law command military force afghanistan general declaration war conclusion peace treaty generally remission reduction punishment general accord shariat law allotment epense king include budget general rights afghan person reside kingdom afghanistan afghan distinction creed religion afghan nationality acquire lose accordance nationality law afghan require observe injunction prohibition government religious political matter free right confer shariat law interference personal liberty imprison punish order accordance shariat appropriate law practice slavery forbid afghanistan male female person slave afghan free limit appropriate regulation matter relate trade industry agriculture afghan equal right duty shariat law law state afghan accord ability capacity government serce require afghanistan movable immovable property protect event immovable property require government public value pay owner accord shariat law special code concern residence afghan safe sort interference official person enter private residence order shariat law law land confiscation movable immovable property forbid eception belong person reside abroad propaganda intrigue afghan government levy money force labor prohibit ecept time war rack kind torture absolutely abolish punishment inflict prescribe law land sacred shariat law primary education child afghan compulsory afghanistan instruction knowledge islam unrestricted afghan permit impart islamic religious instruction foreigner eception engage teach art industry foreign language permit open conduct school kingdom afghanistan public school afghanistan supersion government education culture impart institution infringe islamic faith prode benefit accrue study literature art science interference principle education concern faith religion ahl zimma publication newspaper afghanistan religion restriction save prode special law relate right publishing news belong government afghan entry afghanistan foreign newspaper contain matter religion policy afghan government unrestricted settlement personal dispute matter fall pronce court justice official department connect therewith person satisfied decision order court appeal high authority ministry concern satisfied prime minister majesty king fed revenue tais recover accordance separate code recover lay government code shura milli national council formation body national council introduce instance majesty king approval jirga hold kabul year body solely compose indidual interested social political affair afghanistan representative inhabitant national council compose member elect pronce kabul pronce district assemble capital number member national council state election rule term member council elect year session commence opening day national council lay new election hold epiry term year voter wish elect member liberty date session recess national council lay national council regulation recess government deem necessary frame regulation national council approve government temporary measure bring force majesty command temporary regulation approve national council reassemble add regulation modify reject aforesaid national council meeting national council summon recess consider settle important question impossible general meeting account urgency matter discuss member kabul neighboring district hold meeting national council national council meet half member present decision reach unanimous vote majority vote national council opening session present address majesty king reply member attend council time sign follow oath form oath undersign account confidence impose nation government swear god great sacred koran remain true nation government member national council liberty epress ew council objection raise ground debate national council result debate later law open representative newspaper sitor accordance restriction lay national council regulation right attend listen duty national council manage internal affair selection president ce president clerical staff member frame rule debate lay national council regulation regulation procedure framing eistence essential strengthen foundation government administration affair pass national council adjustment financial matter rejection adoption tais revenue fresh proposal emanate government approval national council duty national council eamine pass national budget prepare submit revenue ministry new regulation bring force eist law amend repeal pass national council necessity epress council minister grant concession formation company public firm kind sanction national council contract agreement grant concession monopoly relate trade industry agriculture afghan foreign conclude approval national council loan raise government abroad approve national council etension public highway railway pay government afghan foreign firm company depend entirely approval national council national council right necessary submit petition king petition circumstance submit deputation compose president member select member deputation request minister court arrange audience minister attend sitting national council hear debate right obtain permission president eplain elucidate matter seat reserve council chamber minister necessity new law feel proposal initiate ministry national council minister prime minister come force pass national council receive assent majesty king case need president motion proposal member council minister secret meeting newspaper correspondent sitor eclude appoint secret committee compose certain select member member right entry outcome deliberation secret committee meeting case regard pass prode matter discuss presence quarter select member support majority vote measure agree secret meeting announce council discuss event secret meeting convene motion president authorize publish deliberation far suitable meeting instance minister publication contingent permission minister minister right withdraw measure discuss council measure introduce minister desire council withdrawal measure contingent consent council introduce minister reject council return observation read council minister accept refute observation council reject accept measure member national council clear eplicit statement ew seek influence threaten member council indicate approval disapproval measure sible mean black white paper manner obous newspaper representative sitor introduction measures council measure introduce member council debate prode quarter member approve measure forward president writing refer committee investigation group member national council select rest member approve president committee instance carefully investigate measure bring national council submit council president matter require discussion statement ew measure permission president discuss council proposal incomplete require assent council return president ministry concern statement reason committee consist person minister interested admit discussion council inform time debate discuss committee council attend person send assistant copy connect paper ecept case urgent measure forward council ministry concern information minister assistant day advance minister reason disapprove bring council eplain objection satisfy council validity national council ask information minister oblige reply absence reasonable ground permit delay reply ecept matter secret nation government reveal certain period lapse period matter announce council personal petition consider official department ministry concern national council petitioner local member petition forward president national council prime minister consideration national council session time king death assemble day term office member epire death king member elect council compose member measure pass national council contravene canon religion islam policy measure pass national council generally come force sign majesty king house nobles house nobles consist eperienced far sight person select appoint directly majesty king meet kabul pass measure rest national council house nobles proposal place house minister decide consideration debate majority vote forward national council approval counterpart measure approve national council eamine confirm house nobles house nobles session time opening national council measure pass remain suspend come force receive royal assent measure pass house nobles send national council approve ew importance refer committee compose equal number member house minimum number member select committee investigate matter question communicate opinion national council event opinion select committee oppose national council matter refer majesty king decide ealted direction proncial adsory committee chief town governor pronce naib ul hukuma hukamat ala hukumat kalan adsory committee set mode election number member duty committee set forth appropriate regulation duty rights minister administration carry minister select prime minister approval majesty prime minister president cabinet absence minister charge prime minister office perform duty president moslem afghan eligible appointment minister minister responsible national council regard policy government general ministry charge particular majesty king free responsibility responsibility minister policy relate regulation minister dispose matter power submit power prime minister deal limit authority submit case power order majesty king minister suspect offence connect official duty trial diwan ali charge minister private capacity refer court justice case minister suspicion suspend public duty result trial publish acquit absence minister assistant ministry deputy appoint purpose eercise power minister permission majesty king committee enquiry select appoint national council accordance appropriate regulation investigate general conduct minister government servant number ministry organization department duty lay fundamental regulation right cil servant cil servant general appoint post fit suitable accordance lay appropriate regulation resign eigency government serce require transfer dismissal cil servant dismiss cil servant behave diligent discharge duty entitle promotion grade rank pension accord appropriate regulation cil servant order seniority require obey superior accordance regulation officer subordinate circumstance issue order contravene regulation event subordinate order superior act contravention rule instance subordinate action report central office ministry prime minister duty cil servant lay respective code cil servant hold responsible discharge duty accordance instruction lay regulation court general suit shariat law file court justice suit file shariat court deal accordance principle hanafi religion court free kind interference case try openly court justice eception judge direct hear camera person plead court prosion shariat law protect right court justice delay hearing decision case ecept prode shariat law set special tribunal settle particular case court classification court power lay fundamental regulation diwan ali supreme court supreme court summon temporarily require try government minister dissolve deal case refer method summon supreme court procedure lay special code financial matter government tais realize accordance special code year budget income ependiture government prepare accord budget basis revenue collect ependiture money government ependiture recover spend accordance therewith annual budget check final statement account comprise actual figure income ependiture year prepare special code govern form final statement account preparation budget method check reduction remission revenue deal accordance special code administration pronce principle administration pronce base fundamental rule delegation authority allotment duty fation responsibility basis mention rule duty proncial cil servant classify authority limit accord appropriate principle cil servant hold responsible superior official matter cil servant post pronce ministry separately public approach appropriate branch disposal business satisfaction requirement sign unrest rebellion tend disturbance public peace discover government power adopt measure necessary insurrection restore peace formation municipality duty govern special code army recruitment army duty right govern special code member army deprive pay rank lay regulation foreign eception doctor military instructor accept military employment miscellaneous principle immunity correspondence right people letter communication public postage pay open post office place ecept order search court deliver close addressee verbal order minister cil servant majesty prime minister obtain order writing sign king prime minister', 'god almighty organize national life afghanistan accord requirement time basis reality national history culture achieve justice equality establish political economic social democracy organize function state branch ensure liberty welfare indidual maintenance general order achieve balanced development phase life afghanistan form ultimately prosperous progressive society base social operation preservation human dignity people afghanistan conscious historical change occur life nation human society consider mention value right human society leadership majesty mohammed zahir shah king afghanistan leader national life frame generation come title state title afghanistan constitutional monarchy independent unitary indisible state sovereignty afghanistan belong nation afghan nation compose indidual possess citizenship state afghanistan accordance prosion law word afghan apply indidual islam sacred religion afghanistan religious rite perform state accord prosion hanafi doctrine non muslim citizen free perform ritual limit determine law public decency public peace language afghanistan pushtu dari official language flag afghanistan tri colour black red green piece join vertically left right equal proportion breadth strip equal half length middle insignia mehrab menber white flank flag ensconce sheaf wheat capital afghanistan city kabul title king title afghanistan king personify sovereignty king protector basic principle sacred religion islam guardian afghanistan independence territorial integrity custodian centre national unity king follow right duty list hold supreme command armed force afghanistan declare war armistice summon inaugurate loya jirgah great council inaugurate ordinary session shura parliament summon inaugurate etraordinary session shura parliament dissolve shura parliament decree new election hold month date dissolution shura parliament sign law proclaim enforcement issue ordinance grant credential conclusion international treaty accordance prosion law sign international treaty appoint prime minister accept resignation appoint ministers recommendation prime minister accept resignation appoint non elect member meshrano jirgah house elders appoint president member appoint chief justice justices supreme court appoint judges high rank cil military official grant retirement accordance prosion law accredits heads afghanistan diplomatic mission foreign states appoint permanent representatives afghanistan international organisation accept credential foreign diplomatic representative proclaim end state emergency remit pardon sentence list coin mint king king mention khutbas medal award king accordance term law award medal carry material benefit royal ependiture state budget accord law royal epenses eercise right duty title limit prescribe prosion king accountable respect follow oath presence member royal family member government justices supreme court joint sitting houses shura parliament god great swear conscious omnipresence action protect sacred principle religion islam guard protect independence territorial integrity law state right people invoke dine assistance reign accordance prosion afghanistan devote effort progress afghan nation succession throne afghanistan continue house majesty mohammed nadir shah martyr accordance prosion king resolve abdicate inform council consist president wolesi jirgah house people president meshrano jirgah house elder prime minister chief justice minister royal court convene meeting loya jirgah great council period seven day announce abdication person minister court loya jirgah great council attest abdication stem king abdication consider effective date attestation king abdication death throne pass eld son eld son king lack qualification set forth throne pass second son king abdicate die son possess qualification king throne pass old king brother case old king brother lack qualification need throne pass second brother line king brother possess qualification require king successor elect male lineal descendant majesty mohammed nadir shah martyr case king elect electoral college consist loya jirgah great council government justices supreme court electoral college summon prime minister case death king day date demise case abdication seven day date king abdication effective decision electoral college majority vote member present consider effective consent person choose king minister court act regent time death king validation abdication election successor king decide travel county appoint person act regent regents person person absence king behalf discharge royal function accordance prosion limit authority delegate king follow person appoint regent list prime minster president wolesi jirgah house elder president meshrano jirgah house elder chief justice list case king die successor complete year life queen act regent successor reach stipulate age case queen live electoral college prode elect male lineal descendant majesty mohammed nadir shah martyr act regent successor reach stipulate age king abdicate successor complete year life electoral college prode elect male lineal descendant majesty mohammed nadir shah martyr act regent successor reach stipulate age regent king possess qualification specify regent perform royal function accordance prosion case queen act regent eercise authority place adce government regent tenure office engage profession person elect regent rtue articles elect king afghanistan period regency prosion relate succession title king amend royal house compose son daughter brother sister king husband wife son daughter paternal uncle son paternal uncle king official protocol state royal house come king queen ependiture royal house budget royal epenses title nobility eclusively confine royal house assign accordance prosion law member royal house participate political party hold follow office list prime minster minster member shura parliament justice supreme court list member royal house maintain status member royal house long live title basic rights duties people title people afghanistan discrimination preference equal right obligation law liberty natural right human right limitation ecept liberty public define law liberty dignity human inolable inalienable state duty respect protect liberty dignity indidual deed consider crime ecept rtue law force commission punish ecept order competent court render open trial hold presence accuse punish ecept prosion law come effect commission offence accuse charge pursue arrest ecept accordance prosion law detain ecept order competent court accordance prosion law innocence original state accuse consider innocent guilty final judgement court law crime personal deed pursuit arrest detention accuse eecution sentence affect person torture human permissible torture issue order torture person sake discover fact person involve pursuit arrest detention condemn sentence impose punishment incompatible human dignity permissible statement obtain accuse person compulsion valid confession crime mean admission accuse willingly possession sense competent court regard commission crime legally attribute person right appoint defence counsel removal charge legally attribute indebtedness cause deprivation curtailment liberty debtor way mean recover debt specify law afghan entitle travel territory state settle ecept area prohibit law similarly afghan right travel outside afghanistan return afghanistan accord prosion law afghan sentence banishment afghanistan territory afghan accuse crime etradite foreign state person residence inolable include state enter search residence permission resident order competent court accordance condition procedure specify law case witnessed crime responsible officer enter search residence person permission resident prior writ court personal responsibility officer bind order court time limit set law entry house search property inolable property confiscate ecept accordance prosion law decision competent court epropriation allow secure public advance equitable compensation accordance prosion law prohibit acquire property eercise right ownership limitation law way utilise property regulate guide law secure public investigation declaration person property accordance prosion law foreign states national entitle immovable property afghanistan approval government immovable property sell diplomatic mission foreign state reciprocal basis international organisation state afghanistan member freedom secrecy people communication writing telephone telegraph medium inolable state right search personal communication ecept order competent court accordance prosion law urgent case define law official responsible search communication responsibility prior permission court official concerned bind obtain search decision court time limit set law freedom thought epression inolable afghan right epress thought speech writing picture mean accordance prosion law afghan right print publish idea accordance prosion law submission advance authority state permission establish public printing house issue publication grant citizen state afghanistan accordance prosion law establishment operation public radio transmission telecast eclusive right state afghan citizen right assemble unarmed prior permission state achievement legitimate peaceful purpose accordance prosion law afghan citizen right establish accordance prosion law association realisation material spiritual purpose afghan citizen right form political party accordance term law prode list aim actity party idea organization party base oppose value embody organization financial resource party open list party form accordance prosion law dissolve process law order supreme court cause suffer damage administration entitle compensation file suit court recovery state ecept case specify law resort recovery order competent court education right afghan prode free charge state citizen afghanistan aim state sphere reach stage suitable facility education available afghans accordance prosion law government oblige prepare implement program balanced universal education afghanistan duty state guide superse education primary education compulsory child area facility purpose prode state state right duty establish administer institution public high learning outside sphere afghan national entitle establish technical literacy school condition establishment school curriculum condition learn school determine law government grant permission accordance prosion law foreign person establish private school eclusive foreigner duty state prepare implement effective programme development strengthening national language pushtu duty state prode limit mean balanced facility prevention treatment disease afghans aim state respect reach stage suitable medical facility available afghans work right precept afghan capability main purpose law design systematize labour reach stage right category labourer protect suitable condition work prode relation worker employer organise progressive basis citizen afghanistan admit serce state basis qualification accordance prosion law work trade freely choose condition determine law force labour benefit state permissible prohibition force labour construe affect implementation law govern organisation collective work public afghan bind pay ta duty state duty ta kind levy prosion law rate ta duty method payment determine law consideration social justice prosion applicable foreign person sacred duty citizen afghanistan defend citizen afghanistan bind perform military serce accordance prosion law duty people afghanistan follow prosion bear loyalty king respect obey law consideration public order peace protect homeland participate national life title title shura parliament shura parliament afghanistan manifest people represent nation people afghanistan participate shura parliament political life elect particular constituency member shura parliament time epress opinion general afghanistan basis judgement shura parliament consist house list wolesi jirgah house people meshrano jirgah house elders list member wolesi jirgah house people elect people afghanistan free universal secret direct election accordance prosion law purpose afghanistan dide electoral constituency number limit law constituency return member candidate obtain large number vote cast constituency accordance prosion law recognize representative constituency member wolesi jirgah house people elect period year term legislature shura parliament dissolve accordance prosion new wolesi jirgah house people elect legislative term termination date outgoing house regulated ensue session wolesi jirgah house people commence date stipulate member meshrano jirgah house elders nominate elect follow list member appoint king period year inform eperienced person remain member elect follow list proncial council elect member meshrano jirgah house elder period year resident pronce elect person period year free universal secret direct election list list qualification voter specify electoral law person appoint elect membership shura parliament meet follow requirement addition qualification voter list acquire afghan nationality year prior date nomination election punish court deprivation political right promulgation able read write member wolesi jirgah house people complete age time election meshrano jirgah house elders age time nomination election list head member government judge officer member armed force official personnel administration appoint elect shura parliament serce person member houses simultaneously election govern electoral law prosion amend electoral law entertain agenda house shura parliament year legislative term wolesi jirgah house people document membership authenticate house house procedure authentication specify rule procedure house concern legal proceeding bring member shura parliament epress opinion idea perform duty inside outside shura parliament member shura parliament accuse offence official responsible communicate matter house accuse member legal proceeding accuse initiate house vote approval majority member house rescind permission majority vote member case witness crime official responsible start legal proceeding arrest member shura parliament permission house belong legal proceeding demand detention accuse accordance prosion law official responsible bind communicate matter immediately house concern permission detain accuse case accusation occur period house session permission detention obtain eecutive council house decision eecutive council place house net session appropriate action member shura parliament undertake profession rule apply agriculture free enterprise suitable salary accordance law member shura parliament member shura parliament entitle epress ew debate house accordance rules procedure houses meet separately time meshrano jirgah house elders hold etraordinary session study budget proposal state time wolesi jirgah house people adjourn joint session houses shura parliament hold king inaugurate new shura parliament address annual session shura parliament member government attend meeting houses shura parliament house demand presence head member government meeting debate houses open ecept government president house member request secret session house grant approval house majority member convert secret proceeding open debate proceeding houses shura parliament record enter meeting place shura parliament force olator punish accord law ecept case clearly define decision house majority vote member present house shura parliament hold ordinary session year open nd meezan number annual session increase law case law regulate opening date session duration work period house shura parliament seven month year period etend house accord requirement business recess period etraordinary session shura parliament summon king request government president houses fifth member etraordinary session shura parliament end royal decree issue consultation president houses president meshrano jirgah house elders appoint member king wolesi jirgah house people elect member president house house elect member deputy president second deputy president secretary deputy secretary mention person constitute eecutive council house eecutive council wolesi jirgah house people elect opening legislative term ce presidents secretary deputy secretary meshrano jirgah house elders elect year beginning annual session president house conduct debate house concern adopt necessary measure maintenance law order premise house duty president define rules procedure house absence president deputy president absence deputy president second deputy president officiate president secretary house record proceeding house superse function secretariat absence secretary deputy secretary discharge duty secretary house appoint accordance rule procedure committee thorough detailed study consideration house formulate rule procedure shura parliament dissolve order king dissolution shura parliament imperative condition shura parliament legislate organize affair accordance prosion law repugnant basic principle sacred religion islam value embody ratification international treaty dispatch abroad detachment afghan armed force grant concession important national economy include monopoly authorization issue money obtain loan competence shura parliament concession ratify shura parliament define law government responsible wolesi jirgah house people member wolesi jirgah house people question government debate government eplanation depend decision house member shura parliament ask question prime minister ministers specific person ask bind furnish verbal write answer answer debate wolesi jirgah house people competent appoint proposal member enquiry commission investigate study conduct government action administration composition enquiry commission method functioning define rules procedure house ecept condition specific prosion law resolution pass houses sign king area law eist prosion hanafi jurisprudence shariat islam consider law legislative introduce shura parliament government member shura parliament relate judicial administration introduce supreme court relate budgetary financial legislation originate government legislative introduce houses government supreme court introduce member houses place agenda house support member house concern involve new financial commitment reduction state revenue place agenda house condition prode source financing compensation loss prosion apply introduce supreme court place agenda houses refer committee concern comment committee read house comment committee debate follow vote draft read second time house rejection approval enactment house reject joint committee consist equal number member houses set accordance prosion law settle difference verdict committee effective receive royal assent joint committee fail resolve difference enactment consider invalid enactment wolesi jirgah house people approve majority vote net term legislation enactment reference meshrano jirgah house elders law sign king difference houses shura parliament relate financial resolve joint committee wolesi jirgah house people follow session approve majority vote enactment reference meshrano jirgah house elders law sign king state budget present wolesi jirgah house people meshrano jirgah house elders adsory comment president wolesi jirgah house people refer budget proposal comment mesharano jirgah committee concern budget proposal comment mesharano jirgah house elders committee concern present house consideration decision decision submit meshrano jirgah house elders effective sign king prosion apply discussion development plan government wolesi jirgah house people reason passage budget materialize beginning new fiscal year budget preous year applicable new budget adopt government bind submit wolesi jirgah house people final account budget preous year month submission new budget meshrano jirgah house elders decision enactment refer wolesi jirgah house people month date receipt enactment consider adopt calculate time period adjournment account adjournment dissolution shura parliament government formulate ordinance regulate urgent matter respect paragraph ordinance law sign king ordinance submit shura parliament thirty day meeting shura parliament reject ordinance invalid title title loya jirgah great council loya jirgah great council consist member shura parliament chairmen proncial councils event dissolution shura parliament member retain position member loya jirgah great council new shura parliament come prosion articles loya jirgah great council summon royal proclamation loya jirgah great council session prosion applicable member deliberation loya jirgah great council open government member loya jirgah great council request secret session loya jirgah great council approve request president wolesi jirgah house people absence president meshrano jirgah house elders preside loya jirgah great council loya jirgah great council meeting elect member secretary ecept case clearly define decision loya jirgah great council majority vote member present procedure loya jirgah great council regulate law prosion loya jirgah great council enjoy power define title government title government afghanistan consist prime minister ministers prime minister head ministers member government number minister function regulate law person accordance prosion eligible election wolesi jirgah house people appoint head member government head government afghan birth head member government appoint member shura parliament outside member shura parliament appoint head member government cease member shura parliament prime minister ministers engage profession tenure office suitable salary law head member government government form person designate prime minister king member policy government present prime minister wolesi jirgah house people debate resolve vote confidence government vote confidence king issue royal decree appoint head member government prime minister acquaint meshrano jirgah house elders policy government government fall death resignation prime minister dissolution shura parliament new government appoint royal decree prime minister introduce member government policy wolesi jirgah house people opening new term shura parliament ask vote confidence government fall following circumstance list prime minister resignation death vote confidence government wolesi jirgah house people charge high treason head member government stipulate dissolution shura parliament termination legislative term list case government cease eist meeting new wolesi jirgah house people case resignation prime minister government cease eist acceptance resignation king event prime minister death ministers order king discharge duty prime minister new government form government fall allegation high treason prosion person appoint king prime minister continue duty receive vote confidence meeting wolesi jirgah house people follow decision loya jirgah great council allegation case outgoing government continue office new government form vote confidence government specific direct legislative term follow promulgation vote confidence government majority wolesi jirgah house people government period majority vote member member wolesi jirgah house people demand impeachment prime minster majority member government charge high treason wolesi jirgah house people approve demand majority member government fall meeting loya jirgah great council appoint enquiry commission study report commission loya jirgah great council decide majority vote member prosecution necessary commission member wolesi jirgah house people file suit accuse supreme court prosion apply ministers number half accuse high treason result accusation accuse relieve duty government fall implementation prosion law enforcement final judgement court adoption necessary measure maintenance public order security regulation financial affair state protection public property development social cultural economic condition people preservation independence defence territorial integrity protection prestige afghanistan international community duty government regulate function government regulation base law regulation repugnant letter spirit law council ministers lay basic line policy government approve regulation competence government prime minister preside council ministers direct guide actity government secure coordination work prime minister responsible maintain liaison government king shura parliament ministers discharge duty head administrative unit member government order guidance prime minister limitation establish law prime minister ministers collectively responsible wolesi jirgah house people general policy government indidually prescribed duty prime minister ministers responsible action government concern obtain royal decree accordance prosion title judiciary title judiciary independent organ state discharge duty legislative eecutive organs judiciary consist supreme court court number determine law jurisdiction judiciary adjudicate litigation bring accord rule law real legal person include state involve plaintiff defendant circumstance law eclude jurisdiction judiciary define title case sphere assign authority prosion prevent establishment military court jurisdiction court confine offence relate armed force afghanistan organization jurisdiction military court determine law judge appoint king recommendation chief justice judge commit offence supreme court consider case judge hear defence judge recommend dismissal king case recommendation approve king judge dismiss office transfer promotion account recommendation retirement judge competence supreme court accordance prosion law suitable salary judge law judge engage occupation tenure office court afghanistan trial hold openly attend accordance prosion law court eceptional case specify law hold closed trial judgement openly proclaim courts bind state judgement reason verdict enforcement final judgement court obligatory ecept case death sentence eecution court decision king signature court case consideration apply prosion law state prosion eist law case consideration court follow basic principle hanafi jurisprudence shariaat islam limitation set forth render decision opinion secure justice good possible way investigation crime conduct accordance prosion law attorney general eecutive organ state prosion rule relate organization function court matter concern judge regulate law principle aim law establishment uniformity judicial practice organization jurisdiction procedure court supreme court consist judges appoint king king appoint member supreme court person list complete year eligible election shura parliament accordance prosion sufficient knowledge jurisprudence national objective law legal afghanistan list king appoint judges supreme court age year chief justice king reew appointment chief justice judges supreme court lapse year date appointment office prosion chief justice judges supreme court remove office mean ecept case mention chief justice judges supreme court tenure office enjoy rest life financial prilege pertain term serce chief justice judge supreme court termination serce prime minister member government member shura parliament government official chief justice member supreme court participate political party tenure office member wolesi jirgah house people demand impeachment chief justice judges supreme court charge crime stem performance duty wolesi jirgah house people approve demand majority member accuse suspend office meeting loya jirgah great council appoint commission enquiry loya jirgah great council study report commission decide majority member prosecution accuse necessary appoint member file suit appoint panel person act tribunal tribunal preside president meshrano jirgah house elders try accuse accordance criminal procedure supreme court accuse prove guilty dismiss office punish supreme court high judicial authority afghanistan supreme court regulate organization function courts judicial affair state accordance prosion law supreme court adopt necessary measure organize administrative affair court budget judiciary prepare chief justice consultation government approval supreme court present government shura parliament state budget supreme court administer budget judiciary prosion law relate cil servant administrative employee state applicable cil servant administrative employee judiciary appointment promotion dismissal retirement account competence supreme court accordance law title administration title administration afghanistan base principal centralization accordance prosion title central administration dide number administrative unit head minister prode law unit local administration pronce number area subdision organization pronce law pronce proncial council form member proncial council elect resident pronce free universal direct secret election proncial council elect member chairman proncial council realization development target state manner specify law similarly proncial councils adse proncial government matter pertain betterment condition general development pronce proncial council discharge duty cooperation proncial government suitable salary member proncial council law law frame accordance principle title organize work local administration objective law etension council llage level increase participation local administration municipality organize administer affair city municipal councils establish free universal direct secret election prosion title matter relate municipality regulate law function administration carry cil servant administrative employee suitable salary law cil servant administrative employee right duty cil servant administrative employee regulate law title state emergency title preservation independence continuance national life impossible channel prode war danger war disturbance similar condition endanger state emergency declare king state emergency continue month concurrence loya jirgah great council imperative etension state emergency king transfer power shura parliament government state emergency government obtain concurrence supreme court ordinance suspend impose restriction follow prosion list list king state emergency transfer capital temporarily city kabul place legislative term wolesi jirgah house people term office member meshrano jirgah house elders come end state emergency king postpone holding new election etend legislative term wolesi jirgah house people term office member meshrano jirgah house elder state emergency come end election hold immediately termination state emergency amend state emergency end state emergency measure adopt immediately invalid measure adopt government accordance prosion submit shura parliament month date meeting follow end state emergency measure null void shura parliament reject state emergency government form obtain vote confidence wolesi jirgah house people prosion motion vote confidence immediately wolesi jirgah house people end state emergency debate decision thereon title amendment title adherence basic principle islam constitutional monarch accordance prosion value embody amendment amendment prosion initiate council ministers member wolesi jirgah house people meshrano jirgah house elders accordance prosion title proposal amendment discuss loya jirgah great council case majority member approve necessity committee member appoint formulate amendment committee formulate amendment adce council ministers supreme court submission loya jirgah great council case loya jirgah great council approve draft amendment majority vote member submit king king dissolve shura parliament circulate draft amendment public month dissolution shura parliament follow opening shura parliament formation government king summon loya jirgah great council consideration approve reject tet draft amendment decision loya jirgah great council respect majority vote member enforce sign king title transitional prosion title prosion title come force date sign proclaim king king proclaim national assembly senate consider dissolve new shura parliament inaugurate meezan period proclamation inauguration new shura parliament consider interim period interim period power shura parliament transfer government ordinance issue interim period prosion title submit wolesi jirgah house people accordance prosion interim period situation arise accordance prosion necessiate convening loya jirgah great council dissolve national assembly senate summon loya jirgah great council constitute accordance prosion proncial council eistence mention situation arise loya jirgah great council constitute chairmen proncial councils following duty government interim period list prepare ordinance relate election basic organization state press judicial organization jurisdiction submit king signature prepare draft relate political party proncial councils submit shura parliament convene interim period adopt necessary measure prepare ground implementation prosion list supreme court come eistence nd day meezan interim application prosion articles prosion articles enforce participation supreme court chief justice time proclamation establishment supreme court king authority necessary measure secure performance function supreme court law issue prior proclamation consider effective prode repugnant prosion nullify new law', 'nation society course history state constant transformation evolution reality edent course history human society secure honorable eistence firm pillar justice competence abound prosperity welfare confidence secure sacred national social economic political cultural aspiration revolution saratan year strengthen consolidate increasingly national unity security solidarity ensure social justice eliminate contradiction positive progressive manner accordance reality history national culture objective subjective condition prevail society respect profoundly glorious history past grandeur people persistent struggle preservation national identity independence fulfill historic human mission trust almighty god adhere basic principle sacred religion islam ultimately order achieve aim objective people afghanistan realize condition requirement time resolve consolidate national life basis liberty progress truth justice peace base principle brotherhood equality philosophy life destiny present future generation accordance fundamental economic objective afghanistan national progressive revolution saratan year realization fact enact national document republican state order secure prosperity welfare spiritual material advancement noble people afghanistan guidance future generation allah compassionate merciful fundamental objective title defense independence national sovereignty territorial integrity eercise power people majority consist farmer worker enlightened people youth strengthen unity thought action participation people construction material spiritual development secure democracy base social justice people respect human liberty dignity eliminate form torture discrimination increase stability consolidation republican order institute constant profound basic economic social change base principle value enshrine secure majority people afghanistan elimination eploitation form manifestation ensure right work ensure generalize compulsory primary education epand develop general vocational secondary education high education free charge order train form academic technical cadre serve people epand broaden preventative curative medicine preservation improvement public health respect principle charter united nations universal declaration human right support peace ultimately formation prosperous progressive society basis brotherhood equality cooperation preservation human dignity economic principle title resource forest energy large industry communication important air surface transport establishment port bank insurance important food procurement establishment archaeological historical object national property administration belong state accordance prosion law limit agricultural property determine land reform law private property enterprise base principle non eploitation regulate law cooperative production consumption cooperative company participation people encourage protect guide government accordance prosion law ensure majority people private investment enterprise field intermediate small cottage industry encourage protect guide accordance prosion law trade base principle guide trade regulate accordance prosion law majority people tais collect basis social justice accordance prosion law state title afghanistan republican democratic independent unitary indisible state national sovereignty afghanistan belong people nation afghanistan consist indidual hold citizenship state afghanistan accordance prosion law word afghan apply indidual nation afghanistan religion afghanistan sacred religion islam citizen follower islam free perform religious rite limit determine law relate public decency public peace language afghanistan pashtu dari official language flag afghanistan consist black red green color arrange horizontally proportion downwards national emblem state aff upper left portion definition proportion downwards national emblem regulate law armed force republican state afghanistan loyal objective national revolution abide national tradition serce people order government duty armed force defend territory afghanistan participate national actity high council armed force administration afghanistan base principle centralization accordance prosion law capital afghanistan city kabul right obligation people title people afghanistan woman man discrimination prilege equal right obligation law liberty natural right human harm damage liberty dignity benefit security public national right regulate law afghan attain age eighteen right vote accordance prosion law innocence original state accuse recognize innocent guilty final judgment competent court punish ecept prosion law force prior commission act accuse charge pursue arrest detain ecept accordance prosion law crime personal deed pursuit arrest detention accuse eecution sentence affect person torture impose punishment incompatible human dignity permissible person right appoint defense counsel defense charge legally bring indebtedness person person cause deprivation limitation liberty debtor method mean recover debt regulate law afghan right travel settle territory ecept area prohibit law afghan right travel abroad return homeland accordance prosion law afghan sentence eile outside afghanistan person sentence forbid reside place therefrom ecept circumstance permit law ensure public security afghan accuse crime etradite foreign state residence person inolable person include state enter search residence person permission resident warrant competent court ecept circumstance procedure specify law case witness crime responsible official responsibility enter search residence person permission resident prior permission court official bind obtain order court entry search time law determine property inolable person property confiscate prosion law decision competent court epropriation private property permit rtue law purpose ensure public echange compensation person prohibit acquire property eercise right ownership ecept limit law way utilize property regulate guide law purpose ensure public freedom secrecy communication person write form telephone telegraph mean inolable state right search communication person ecept rtue prosion law urgent case define law responsible official prior permission court search communication responsibility official bind obtain order court carry search time law determine freedom thought epression inolable afghan right epress thought speech writing picture similar mean accordance prosion law permission right establish print house issue publication grant citizen afghanistan accordance prosion law establishment large printing house establishment operation public radio telesion transmitter eclusive right state citizen afghanistan right assemble secure permissible peaceful objective carry weapon accordance prosion law reflection social demand political education people afghanistan time aspiration realize attain natural maturity party lead hezb enqelab meli national revolution party founder vanguard popular progressive revolution saratan year people afghanistan prevail work right honor duty afghan capability major purpose law promulgate regulate work reach stage right toiler farmer worker trade protect suitable working condition prode relation worker employer regulate progressive basis choice work vocation free term determine law citizens afghanistan admit serce state basis merit rtue prosion law imposition force labor permissible state prohibition force labor bar application law promulgate regulation collective actity secure public afghan bind pay ta duty state ta duty levy prosion law ta duty method payment determine law consideration social justice prosion apply foreign person defense home land sacred duty citizen afghanistan citizen afghanistan bind serve flag accordance prosion law adherence prosion loyalty objective revolution saratan year republican order respect president republic obedience law observance public order security protection homeland participation national life duty people afghanistan harm national independence territorial integrity national unity dictate majority people objective revolution saratan year eercise right freedom embody meli jirga title meli jirga afghanistan people manifest represent nation member meli jirga compose farmer worker nominate party elect people accordance prosion law period year free universal secret direct election purpose afghanistan dide electoral constituency number size constituency determine law procedure condition election deputy meli jirga duty regulate accordance prosion law method verification authenticity membership document tion legality election deputy place accordance rule procedure meli jirga membership prilege deputy withdraw agreement member meli jirga qualification voter determine electoral law elect membership meli jirga addition qualification voter person meet follow qualification list acquire citizenship state afghanistan year prior date election punish court deprivation political right attain age time election list member meli jirga right epress ew jirga discussion accordance rule procedure member meli jirga legal proceeding epress ew opinion discharge duty member meli jirga accuse offense responsible official notify meli jirga meli jirga grant permission majority vote legal proceeding bring accuse case witness crime responsible official bring legal proceeding accuse arrest permission jirga legal proceeding require detention accord law responsible official bind notify immediately jirga matter jirga recess inform administrative board jirga administrative board bind notify meli jirga matter session recess government attend meeting meli jirga meli jirga demand presence member government meeting question discussion meeting meli jirga open president republic declare meeting closed session president meli jirga member government member meli jirga request closed meeting prode request approve jirga forcibly enter meeting place meli jirga olation punish accord prosion law ecept case eplicitly prode decision meli jirga majority vote member present meli jirga hold ordinary session year consecutive month begin qaus meli jirga beginning legislative term elect member president jirga beginning annual session elect member person second ce president person secretary assistant secretary period year mention person constitute administrative board meli jirga elect maimum period day beginning session meli jirga accordance rule procedure appoint committee undertake detailed thorough study consideration meli jirga formulate rule procedure appropriate salary member meli jirga accordance prosion law organize affair life afghanistan meli jirga accordance prosion study consider draft law propose government judicial organ adopt necessary decision thereon adoption decision budget ratification international treaty dispatch detachment armed force republican state afghanistan abroad competence meli jirga recess dissolution meli jirga government draft prepare ordinance regulate urgent matter ordinance come force signature proclamation president republic ordinance submit meli jirga decision thirty day meeting law resolution enact meli jirga sign president republic law repugnant basic principle sacred religion islam republican order value embody loya jirga title afghanistan loya jirga supreme manifestation power people loya jirga compose list member meli jirga member central council party member government high council armed force member supreme court representative pronce thirty member appoint decree president republic list loya jirga convene accordance prosion decree president republic president republic chairman loya jirga case death resignation president republic office presidency convene loya jirga day date demise resignation president loya jirga convene chairmanship president republic ce chairman loya jirga following circumstance list amendment election acceptance resignation president republic approval declaration wart armistice important event require approval loya jirga list session loya jirga prosion fifty applicable member deliberation loya jirga open member government central council party thirty member jirga request secrecy loya jirga approve request loya jirga sitting inauguration elect member ce chairman secretary majority vote member ecept case eplicitly prode decision loya jirga adopt majority vote member present procedure loya jirga regulate law prosion loya jirga power determine case dissolution meli jirga member retain status member loya jirga new meli jirga convene loya jirga session member enjoy equal right regardless office rank duty president republic title president republic head state afghanistan administer guide organ concern function eecutive party directly entrust accordance prosion charter party president republic nomination party elect loya jirga majority vote member term year president republic citizen afghanistan muslim president spouse bear afghan parent president enjoy cil political right year age president republic following duty list supreme command armed force declare war armistice adce loya jirga case immediate open danger threaten independence territorial integrity urgent circumstance president republic adopt eceptional decision convene loya jirga declare state emergency termination convene inaugurate loya jirga inaugurate ordinary session meli jirga convene inaugurate etraordinary session dissolve meli jirga decree new election new election hold month date dissolution meli jirga consolidate national unity uphold people afghanistan guiding harmonize domestic foreign policy accordance prosion commuting pardon sentence award medal accordance prosion law appoint ce president republic member party appoint minister party dismiss accept resignation appoint justice supreme court chief justice appoint retire accept resignation dismiss judge officer armed force high rank official accordance prosion law accredit head afghanistan diplomatic mission foreign state appoint afghanistan permanent representative international organ accept letter credence foreign diplomatic representative sign law ordinance proclaim enforcement grant credential conclusion international treaty accordance prosion law sign international treaty list president republic recourse general vote people afghanistan important national matter president republic prior assume office follow oath presence member loya jirga presence representative nation afghanistan swear god almighty protect basic principle sacred religion islam respect law afghanistan abide preserve national independence territorial integrity devote energy defense right people objective revolution saratan year republic afghanistan ecept case define thirty tenure office president republic conduct transaction president republic event illness travel deputize ce president ce president act stead accordance instruction issue salary ependiture president republic law election president republic necessary measure adopt day end term presidency accordance prosion charter party president republic decide resign convene loya jirga submit resignation directly loya jirga case loya jirga accept resignation election new president republic place accordance eighty event president republic die resign presidential function entrust temporarily president meli jirga case president meli jirga nominate candidate election office president tenure office president meli jirga act president republic amend new president republic elect thirty day date office president vacant accordance prosion act president republic prosion agreement member government central council party utilize power embody seventy occurrence urgent important national event compel act president republic eercise power stipulate seventy accusation high treason president republic request member meli jirga agreement member central council party vote request submit loya jirga case president republic bind convene loya jirga president meli jirga preside meeting loya jirga loya jirga approve ascribe accusation edence submit thereon majority vote member president republic relieve office composition court trial procedure regulate special law case presidential function entrust temporarily president meli jirga act president republic prosion eighty government title government supreme eecutive administrative organ state consist ce president ce president republic minister perform duty leadership president republic ce president ce president republic minister citizen afghanistan cil political right spouse bear afghan parent ce president ce president republic minister prior assume office follow oath presence president republic god almighty swear represent law afghanistan abide devote energy defense national right protect objective revolution saratan republic afghanistan government follow duty power implement domestic foreign policy accordance prosion law basic principle party administer coordinate superse affair ministry department public institution render eecutive administrative decision accordance law decree issue superse implementation draft law formulate regulation prepare state budget adopt measure strengthen economy monetary financial draft development plan state adopt measure implementation eecution discuss negotiate purpose obtain grant domestic foreign loan adopt measure ensure public order security adopt necessary effective measure eradicate form administrative corruption accordance prosion law conclude agreement foreign organization accordance prosion law perform duty entrust government government promulgate regulation organize affair basis law regulation repugnant letter spirit law ecept case define thirty ce president ce president republic minister tenure conduct transaction profit state ce president ce president republic responsible president republic central council party meli jirga respect performance duty accusation offense ce president ce president minister request member meli jirga request approve majority vote member meli jirga accuse remove office approval trial accuse conduct special court composition court trial procedure punishment regulate separately special law judiciary title judicial power organ state consist supreme court court number determine law main objective law uniformity judicial practice regulation organization jurisdiction court trial procedure jurisdiction judiciary adjudicate litigation bring accord prosion law real legal person include state involve plaintiff defendant circumstance ecept war case sphere competence eclude jurisdiction judicial power state define assign authority prosion prevent establishment military court jurisdiction court confine offense relate armed force afghanistan organization jurisdiction military court regulate law court case consideration apply prosion law state prosion eist law state case case consideration court follow basic principle hanafi jurisprudence shariat islam limitation set forth render judgment opinion secure justice good possible way judge appoint president republic recommendation chief justice dismissal judge ground commit offense approval president republic recommendation supreme court judge accuse commit offense supreme court consider case judge accord prosion law hear defense supreme court accusation sustain recommend dismissal president republic approval president republic judge dismiss office punish accordance prosion law transfer promotion retirement acceptance resignation calling account judge supreme court accordance prosion law appropriate salary judge law ecept case define thirty seven tenure office member supreme court chief justice conduct transaction profit state court afghanistan trial hold openly right attend accordance prosion law enforcement final decision court obligatory ecept case death sentence instance eecutive judgment high court endorsement president republic court bind state reason decision judgment pass detection crime police investigation pursuit prosecution thereof attorney general eecutive organ conduct accordance prosion law detection investigation crime relate armed force afghanistan regulate special law supreme court compose justice appoint president republic member supreme court possess follow qualification list attain age thirty acquire citizenship state afghanistan year prior date appointment sentence court deprivation political right sufficient knowledge national objective legal science legal afghanistan president republic appoint member supreme court year age chief justice president republic reew appointment member supreme court chief justice year appointment office prosion member supreme court chief justice remove office mean ecept case list member supreme court chief justice assume office follow oath presence president republic god almighty swear discharge judicial duty utmost honesty integrity secure truth justice regard basic principle sacred religion islam prosion value embody republic afghanistan conscious omnipresence almighty performance duty protect right people homeland justice ecept case define member supreme court chief justice term serce legally epire enjoy rest life financial prilege term serce member supreme court chief justice resign accord prosion law resignation member supreme court chief justice effective date approval president republic chief justice member supreme court resign benefit financial prilege embody restriction mention applicable member supreme court chief justice resign member meli jirga request impeachment chief justice member supreme court charge offense arise performance duty meli jirga approve request majority member accuse relieve office meli jirga appoint member file suit appoint panel person act tribunal panel preside president meli jirga try accuse accordance procedure criminal court prove guilty accuse dismiss office sentence punishment supreme court regulate organization function court judicial affair state accordance prosion law ecept case define judicial administrative jurisdiction supreme court regulate law supreme court adopt necessary measure organize administrative affair court budget judicial organ prepare chief justice consultation government submit government meli jirga state budget implementation judiciary budget jurisdiction supreme court supreme court draft law sphere organize judicial affair submit meli jirga accordance prosion sty prosion law concern cil servant administrative employee state applicable cil servant administrative employee judiciary organ appointment promotion acceptance resignation calling account retirement administer supreme court emergency title war danger war rebellion similar situation threaten disrupt preservation independence national life security way render impossible secure channel prode state emergency declare president republic state emergency continue month agreement meli jirga imperative etension state emergency president republic transfer power meli jirga government state emergency president republic prosion ninety transfer jurisdiction judiciary military court state emergency government agreement supreme court presidential decree suspend impose restriction follow prosion list prosion thirty prosion thirty prosion thirty prosion thirty seven prosion thirty list state emergency president republic transfer capital afghanistan place city kabul term office member meli jirga come end state emergency president republic postpone holding new election etend term office member meli jirga state emergency election hold immediately termination state emergency state emergency amend amendment principle adherence basic principle islam republican order accordance prosion amend amend prosion ew eperience requirement time place accordance prosion proposal government central council party meli jirga proposal amendment consider loya jirga majority member approve necessity amendment jirga appoint member committee prepare draft amendment committee draft amendment consultation government supreme court submit loya jirga draft amendment approve majority member loya jirga come force signature proclamation president republic transitional prosion enforcement president republic issue decree dissolve government form new government conformity spirit republican state president republic convene meli jirga accordance prosion qaws ah period enforcement inauguration meli jirga consider transitional period transitional period power meli jirga belong government transitional period situation arise accordance prosion sty seven require convening loya jirga president republic issue proclamation convene loya jirga circumstance resident republic power loya jirga convene immediately inauguration loya jirga president republic inform loya jirga action accordance prosion loya jirga adopt decision thereon occurrence mention circumstance central council party high council armed force supreme court constitute accordance prosion loya jirga convene traditional manner president republic accordance prosion seven proclaim establishment supreme court saratan ah period enforcement establishment supreme court president republic adopt necessary measure ensure performance function supreme court ordinance enforce transitional period present decision session meli jirga thirty day convening transitional period government duty prepare ordinance relate meli jirga election press assembly basic organization state submit signature president republic transitional period government adopt necessary measure coordinate performance implementation eecution program state accordance prosion transitional period president republic enforce proclaim accordance prosion charter hezb enqelab meli founder vanguard national progressive revolution saratan year people afghanistan party transition period president republic establish proclaim high council armed force transitional period president republic power anticipate decree formation interim council office presidency performance function president event death interim council office presidency bind convene loya jirga traditional manner election new president republic day date demise general prosion title loya jirga convene republican order th dalw ah kabul capital afghanistan elect majority vote member president republic afghanistan term year offer armed force police official ministry foreign affair spouse bear afghan parent competent authority interpretation supreme court enforcement republican decree number date assad abrogate prosion law issue prior enforcement effective prode repugnant prosion value', 'allah beneficent merciful beloved homeland afghanistan prideful history enriched heroic struggle courageous people freedom independence national sovereignty democracy social progress development place course recent year prode favorable condition attain lofty objective progress homeland prosperity people present stage people democratic party afghanistan initiator coordinator policy national reconciliation actively carry forward political national democratic force humanitarian policy order consolidate independence national sovereignty defend territorial integrity achieve reconciliation strengthen national unity ew objective reality best tradition customs people ensure social justice equality develop national economy raise ling standard people raise role prestige beloved homeland afghanistan international arena representative people afghanistan loya jirga conscious historic changes place homeland contemporary world follow tenet sacred religion islam preserve enriching heritage constitutional movement respect united nations charter universal declaration human rights endorse important national legal instrument november foundation political title republic afghanistan independent unitary indisible state sovereignty territory national sovereignty republic afghanistan rest people people eercise national sovereignty loya jirga national assembly local council sacred religion islam religion afghanistan republic afghanistan law run counter principle sacred religion islam value enshrine republic afghanistan nonaligned join military bloc allow establishment foreign military basis territory defense independence national sovereignty territorial integrity fundamental duty state state ensure security defense capability equip armed force republic afghanistan political party allow form prode programs rule actity oppose prosion law party form accordance prosion law dissolve legal cause national republic afghanistan broadest sociopolitical organization unite political party social organization indidual member enrol rank ensure active participation social political cic spheres basis common program trade union social organization allow form republic afghanistan accordance law state assist promote role trade unions peasant cooperative youth women social organization spheres social political economic cultural life ensure cooperation mutual relation state organ pashtu dari official language national language state emblem republic afghanistan consist rise sun adytum pulpit green background ensconce sheaves wheat wheel tricolor ribbon black red green state flag republic afghanistan tricolor dide horizontal equal parts black red green stripes emblem place upper quarter flag close mast length flag double width capital republic afghanistan kabul national anthem republic afghanistan approve house representatives foundation socioeconomic title republic afghanistan multi national state follow policy round growth understanding friendship cooperation nationality clan tribe ensure political economic social cultural equality rapid growth development region socially economically culturally backward state gradually prepare ground creation administrative unit base national characteristics state adopt necessary measures growth culture language literature people afghanistan preserve develop worthy cultural traditional linguistic literary folkloric legacy nationality clan tribe republic afghanistan family constitute basic unit society state adopt necessary measures ensure health mother child upbringing child state permanently care young generation prode necessary opportunity education employment recreation rest spiritual physical growth help blossoming talent youth state promote construction prode state cooperative housing help construction private house state implement economic policy aim mobilization utilization resource remove backwardness raise ling standard people development socioeconomic structure society end state formulate practice socioeconomic development plan republic afghanistan state med cooperative religious trust private property property political social organization eist state protect form lawful property mineral resources forests pastures national wealth basic energy resources historic relics bank insurance institutions mean communication radio telesion major dams ports main mean production heavy industry transport way air transport state property state develop strengthen state sector economy state assist strengthening epansion cooperative encourage voluntary participation people end state encourage protect actity indidual craftsmen voluntary participation trade union cooperative render assistance upgrade professional skill ensuring mean labor supply raw material sale output state guarantee right ownership land peasant land owner accordance law state adopt necessary measures realization democratic changes agriculture keeping ew peasant land owner state encourage establishment big agricultural mechanized state med private farm helps reclamation rgin lands state guarantees law pastures nomads livestock breeder state assist creation favorable condition growth animal husbandry sale livestock product improvement economic social ling standard nomad livestock breeder state guarantee security private investment growth national economy protect encourage participation national capital holder development industry commerce construction transport agriculture serce accordance law state epand beneficial relation private entrepreneur protect private sector competition foreign capital state account private sector accordance law work financial credit customs price policy republic afghanistan domestic foreign trade regulate state observe people end state encourage actity national capital holder epansion eport import goods development wholesale retail trade undertake fing controlling price state encourage augmentation production raising quality eport good protect competition foreign capital monopoly growth national economy state permit foreign investment republic afghanistan regulate accordance law republic afghanistan foreign citizen enjoy right real estate approval government real estate sell diplomatic mission foreign government reciprocal basis international organization republic afghanistan member hereditary right property guarantee law basis islamic shariat epropriation allow public prior compensation accordance law confiscation property allow sanction law ruling court republic afghanistan criterion rate type tais duty determine basis law social justice state adopt implement necessary measures protection nature natural wealth reasonable utilization natural resources improvement ling enronment prevention pollution water air conservation surval animal plant citizenship basic rights freedom duty citizens title citizenship republic afghanistan equal uniform citizens acquisition loss citizenship matter relate regulate law indidual citizenship republic afghanistan accordance law afghan citizens republic afghanistan eiled inside outside citizen republic afghanistan etradite foreign state citizens republic afghanistan live abroad enjoy protection state state defend right legal strengthen relation afghans live abroad help return homeland republic afghanistan guarantees accord law right freedom foreign citizen indidual reside afghanistan citizenship bind obey law republic afghanistan citizens republic afghanistan men women equal right duty law irrespective national racial linguistic tribal educational social status religious creed political conction occupation kinship wealth residence designation illegal prilege discrimination right duty citizen forbidden right life natural right human person deprive right law republic afghanistan freedom perform religious rite guarantee muslims follower religion free perform religious rite indidual right abuse religion anti national anti people propaganda purpose creation enmity commission deed contrary republic afghanistan liberty natural right human right unlimited ecept far harm freedom public define law liberty human dignity inolable state respect protect innocence original state accused presume innocent guilty final verdict court law act consider crime ecept prescribed law person accuse commit crime accordance prosion law person arrest detain ecept accordance law person punish verdict court accordance prosion law proportion crime committed crime personal deed person punish commission accused right defend personally advocate republic afghanistan punishment incompatible human dignity torture ecruciation prohibit obtain confession testimony statement accuse person compulsion threat prohibit statement testimony accuse person mean compulsion valid public servant tortures accuse person obtain statement testimony confession issue order torture punish accordance law act order superior commission unlawful deed ground plea innocence indebtedness cause deprivation person liberty ways mean recover debts regulate law republic afghanistan inolability residence guarantee person include state representative enter search residence permission resident ecept circumstances procedures prescribe law republic afghanistan confidentiality correspondence telephone conversation telegrams communication guarantee include state representative intercept telephone conversation telegraphic communication communication ecept prosion law citizens republic afghanistan suffer performance duty unlawful damage state organ social organization responsible official entitled compensation condition procedure regulate law citizens republic afghanistan entitled sociopolitical life administration state directly representative citizens republic afghanistan right elect elect condition procedures eercise right regulate law citizens republic afghanistan enjoy right freedom thought epression citizens eercise right openly speech writing accordance prosion law pre censorship press allow citizens republic afghanistan right assembly peaceful demonstration strike accordance prosion law citizens republic afghanistan enjoy right petition criticize suggestion indidually collectively state organ social organization responsible official bind consider petition criticisms proposal necessary action regard time prescribe law prosecution criticism forbidden citizens republic afghanistan right work entitled equal pay equal work state enactment application progressive labor law prode necessary condition citizen enjoy right imposition forced labor forbidden performance compulsory labor war time natural calamity state emergency threaten public life welfare eclude citizens republic afghanistan need society basis field epertise right hold state post choose occupation citizens republic afghanistan right rest state define working hour periodic holiday salary specification work holidays festival eids prode condition rest growth cultural artistic establishment physical training sports healthy recreation citizens republic afghanistan right free education state adopt necessary measures eradication illiteracy generalization balanced education mother tongue ensure compulsory primary education gradual epansion general intermediate technical vocational education growth high education training national cadres republic afghanistan foreign national allow establish schools accordance prosion law school base foreigner citizens republic afghanistan right health social security state adopt necessary measures epansion round balanced nation wide medical serces epansion hospital health centers training doctor personnel medical serces universal prevention disease epansion free health serces arrangement encouragement private medical serces improvement material welfare elderly war work disabled dependent martyrs citizens republic afghanistan right scientific technical artistic actity state ensure systematic progress science training scientific cadres protect right authors inventor encourage protect scientific research spheres generalizes effective result scientific research citizens republic afghanistan right travel free choice domicile residence state authorize ban temporarily travel settlement residence particular area purpose maintain security public order prevention epidemic disease protection right liberty indidual citizens republic afghanistan enjoy accord law right travel abroad return home citizen republic afghanistan bind observe law republic afghanistan ignorance prosion law ecuse citizens republic afghanistan foreigner bind pay tais duty state accordance prosion law defense homeland independence national sovereignty territorial integrity prideful duty citizens republic afghanistan condition serce armed force regulate law state prode necessary condition citizen eercise fundamental right freedom discharge duty person right eercise right freedom enshrine law public detriment right freedom citizen loya jirga grand assembly loya jirga highest manifestation people afghanistan accordance national historical tradition loya jirga consist list member national assembly people deputy pronce equivalent governor pronce major kabul prime minister deputy prime minister member council ministers chief justice deputy chief justice judge supreme court attorney general deputy chairman member constitutional council member eecutive board national maimum fifty person prominent political scientific social spiritual figures appoint president basis recommendation secretariat national list loya jirga enjoys following power list approve amend elect president accept president resignation consent declaration war armistice adopt decision important question regard destiny list save case define loya jirga summon open president session hold chairmanship president person appoint president regent quorum loya jirga member present save case define decision loya jirga adopt majority vote member time house representatives remain dissolve member retain membership loya jirga till new house elect election loya jirga regulate law procedure lay loya jirga president title president head state eercise power legislative eecutive judicial spheres accordance prosion law republic afghanistan president elect majority vote member loya jirga term seven year person elect president term president accountable report loya jirga loya jirga elect new president thirty day end term office outgoing president muslim citizen republic afghanistan complete age wife bear afghan parent enjoys cil political right elect president president elect following oath swear allah almighty protect principle sacred religion islam observe republic afghanistan superse implementation safeguard independence national sovereignty territorial integrity afghanistan preserve basic right freedom citizens eert efforts ensure social justice people prosperity strengthening peace progress president enjoy following power addition entrust prosion list supreme command armed forces sign law resolution national assembly appoint prime minister designate form government approve head member government receive vote confidence national assembly accept resignation convene preside council ministers necessary approve appointment promotion pension judges high ranking official officer armed force accord prosion law decision ascertain public opinion holding referendum major political social economic issues pardon remit sentence accredit heads diplomatic mission republic afghanistan foreign international organisation accept credential heads diplomatic mission foreign state republic afghanistan proclaim state emergency general partial mobilization termination declare war armistice consent loya jirga authorize issue money grant citizenship asylum accordance law grant honourary order medal title law eercise power accordance law list president continue office till end term ecept event protracted irreversible illness resignation case president unable discharge duty presidential function entrust ce president case permanent loss ability work death resignation president ce president inte loya jirga month elect new president event resignation president submit resignation directly loya jirga national assembly title national assembly highest legislative organ republic afghanistan national assembly consist house house representatives senate member house representatives elect electoral constituency equal population legislative term year member senate senators elect appoint following manner list person pronce equivalent unit period year person member proncial council equivalent elect council term year remain member appoint period year president informed scholarly prestigious national figures list number condition procedure election appointment member national assembly regulate law addition power prescribe national assembly enjoy following power list approve amend repeal law legislation decree present president signature interpret law ratify annul international treaty approve socio economic development plan endorse government report eecution approve state budget evaluate report eecution establish administrative unit change establish abolish ministry central organ equivalent decide appointment removal ce president basis recommendation request president authorize state receive loan grant prilege substantial importance national economy include monopoly institute law honourary order medal title endorse establishment relation foreign international organisation elicit reply prime minister member government concern performance relate authority interpellations session list house representatives following eclusive power list pass vote confidence confidence council ministers member final decision draft plan economic social development state budget event disagreement house representatives senate list house national assembly appoint session commission member authenticate credential commission report result finding house concerned house confirm credential deputy national assembly basis report case olation electoral law house declare credential member concerned invalid house representative elect session member eecutive committee compose chairman deputy chairmen secretary term legislature senate elect member eecutive committee compose chairman term year deputy chairmen secretary term year chairman house national assembly conduct maintain order respective session house absence chairman deputy chairman discharge duty ordinary session national assembly hold twice year week month sunbola week month hoot regular session national assembly etend month national assembly discuss annual budget development plan session wind endorsement budget endorse beginning fiscal year budget preous year apply till endorsement new annual budget etraordinary session national assembly hold decision president request chairman house fifth member house house national assembly hold separate joint session joint session national assembly chair alternately chairman president inaugurate conclude session national assembly session national assembly summon president thirty day conclusion election house representatives quorum house national assembly complete member house present decision house pass majority vote total membership separate joint session house national assembly open house decide meet closed session proceedings debate house record house national assembly elect member standing commission preliminary consideration arrangement issue competence supersion implementation law decision house house national assembly empower constitute investigation auditing temporary commission require tasks procedure investigation auditing commission regulate respective house national assembly member house representatives right question prime minister member government interpellations session answer question present writing orally house representatives consider basis answer present motion vote confidence government government fail receive vote confidence continue office till new government form member council minister consultative vote attend meeting national assembly member national assembly right vote epress ew separate joint session member national assembly legal prosecution vote ew epress inside outside national assembly save case prima facie edence crimes member national assembly arrest detain judicial surveillance consent house concerned consent eecutive committee interval session national assembly member national assembly arrest prima facie case eecutive committee house concerned inform following authority right propose introduction amendment repeal law house national assembly list president standing commission national assembly tenth membership house council ministers supreme court attorney general eecutive board national council ulema clergymen list save case define decision house relate power eighty deliver house decision house reject joint committee consist equal number member house set decision joint committee come force sign president joint committee fail resolve difference matter discuss joint session national assembly decision majority vote joint session decision national assembly enforce signature president case president agree decision national assembly return national assembly day date receipt reason elapse period national assembly endorse decision net session thirds vote member decision effective president sign consultation chairmen house representatives senate prime minister chief justice president declare dissolution house representatives state reason justification reelection hold thirty day dissolution house representative new house representative dissolve till year reelection house representative dissolve month office president law resolution national assembly publish pashtu dari language publish language nationality procedure functioning national assembly standing commission regulate national assembly council minister title council ministers government highest eecutive administrative organ state power republic afghanistan council ministers compose list prime minister deputy prime minister minister president central organ equivalent ministry list prime minister designate present session house representatives home foreign policy line government composition government seek vote confidence house receive vote confidence approval president prime minister present domestic foreign policy line introduce member government senate council ministers responsible house representatives president submit report council ministers following duty power list formulate implement domestic foreign policy ensure eecution matter relate national economy formulate socioeconomic development plan prepare state budget implement plan budget report national assembly eecution measures defend state protect form legal property ensure public order security safeguard rights freedom citizens overall guidance foreign relation establishment diplomatic tie conclusion agreement foreign state international organisation accord law create office organ related council ministers power accord prosion law council ministers republic afghanistan approve regulation rule legal document jurisdiction power list interval session national assembly event dissolution house representatives council minister urgently required issue legislative ordinance matter power national assembly eclude matter relate budget financial affairs legislative ordinance come force signature president council minister submit periodic session national assembly approval legislative ordinance promulgate accordance prosion ordinance reject national assembly void date interval session national assembly period dissolution house representatives president recommendation prime minister appoint dismiss member government matter submit session house representatives decide term council minister epire end legislative term house representatives council minister carry actity till new government form organization composition actity council minister regulate law judiciary title judiciary independent component state judgment republic afghanistan deliver court accordance prosion law court republic afghanistan include supreme court proncial courts disional courts district courts city courts subdistrict courts precinct courts military courts supreme court highest judicial organ head unified justice compose chief justice deputy chief justice judge supreme court accordance prosion law superse actity courts ensure uniform application law courts chief justice deputy chief justice judge supreme court appoint president term year supreme court accountable president report court independent judgment submit law trial verdict courts base principle equality party law court judge apply prosion law republic afghanistan case consideration eplicit prosion eist law court follow prosion shariat islam render decision secure justice best possible way trial courts republic afghanistan beheld openly condition case conduct closed trial determine law verdict court pronounced openly circumstances trial judgment courts conduct pashtu dari language language majority resident place party case understand language trial conduct right acquaint material document case interpreter right address court mother tongue verdict court contain statement reason edence final verdict court binding ecept case death sentence eecute approval president organization composition power procedure work courts regulate law attorney office title attorney office republic afghanistan unified base principle centralism consist office attorney general proncial disional district subdistrict city precinct attorney offices attorney office armed forces state set special attorney office unified attorney attorney general lead actity attorney office attorney office independent performance duty law attorney general attorney general deputy appoint president term year attorney general accountable president report high supersion implementation uniform observance law ministry central organ state administration eecutive committees local councils state med private institution department cooperatives political party social organisation official charge citizen undertaken attorney general attorneys subordinate organization composition power procedure actity attorney office regulate law council title council republic afghanistan form ensure conformity law legislative document international treaty council eercise following power list evaluate uniformity law legislative decrees international treaty legal judicial adce president constitutional matter list order eercise power council right list scrutinize legislative document present president signature epress opinion conformity republic afghanistan submit concrete proposals president measures regard development legislative affair require list council compose chairman member appoint president term year council accountable president report organization procedure actity council regulate law local council title purpose local administration republic afghanistan dide pronce dision district city subdistrict precinct llage organ state power administrative unit local council eecutive organ local council eecutive committee select local council people deputy eecutive committee local council lead governors pronce dision district respectively subdistrict administrators llage chiefs mayors heads precinct local organ state power administration deal problem relate local administration ew public local institution organisation office duty bound implement decision local council eecutive committees term office local council year organization duty power election procedure actity local council regulate law foreign policy title foreign policy republic afghanistan rest ensure national interests consolidation independence national sovereignty territorial integrity preservation world peace security peaceful coeistence equality right round development international cooperation republic afghanistan respect observe united nations charter universal declaration human right accepted principle norm international law republic afghanistan pursue policy non alignment significant principle state foreign policy founder non aligned movement strive achieve objective republic afghanistan favour establishing consolidation friendly relation particularly neighbouring islamic ones irrespective sociopolitical economic systems base principle equality rights mutual respect independence national sovereignty territorial integrity non interference internal affairs non resort force threat force denunciation form interference aggression fulfillment international commitment accordance accepted principle norm international law republic afghanistan support struggle people nation peace national independence democracy social progress right nation self determination fight colonialism neocolonialism imperialism zionism racism apartheid fascism republic afghanistan support struggle total disarmament cessation arms race earth space non proliferation elimination nuclear chemical weapon kind weapon mass destruction dismantle aggressive military basis relaation international tension establishment new international economic information order war propaganda forbidden republic afghanistan miscellaneous prosion title republic afghanistan highest legal credibility law legislative document frame conformity state organ function basis law republic afghanistan ensure legal order society right legal citizens state cooperative med private institution political party social organisations official charge citizen oblige observe law republic afghanistan amendment loya jirga decision introduce amendment proposal president proposal approval member national assembly case president convene loya jirga loya jirga proposal qualified introduce amendment reject proposal amendment state emergency allow salary president ce president member national assembly prime minister member government chief justice judge supreme court member council attorney general deputy law preservation independence national sovereignty territorial integrity internal security impossible channel prode war danger war disturbance similar condition state emergency proclaim president state emergency etend month consent loya jirga president following power state emergency list etension tenure national assembly delegation power national assembly council ministers delegation power courts special courts military courts suspension limitation articles item articles eercise power accordance law list international treaty preously enter republic afghanistan convention join repugnant prosion law republic afghanistan ascendancy enactment election president president revolutionary council dissolve revolutionary council carry duty till national assembly constitute enjoy power enshrine national assembly constitute month follow enactment council ministers enjoy power seven carry duty till new government form win vote confidence house representatives prosion follow enactment president period month reorganize judiciary attorney organ basis unified conformity prosion establish council president elect loya jirga endorse enactment fundamental principle democratic republic afghanistan abrogate law legislative document adopt prior enactment remain valid proded repugnant prosion come force date endorsement loya jirga sign proclaim president']\n"
     ]
    }
   ],
   "source": [
    "print(processed_text[0:5])"
   ]
  },
  {
   "cell_type": "markdown",
   "metadata": {
    "id": "_RN5voGiVJiG"
   },
   "source": [
    "**Important part**"
   ]
  },
  {
   "cell_type": "code",
   "execution_count": null,
   "metadata": {
    "id": "yohVMRCXPTR1"
   },
   "outputs": [],
   "source": [
    "def get_spacy_list(texts):\n",
    "    \"\"\"\n",
    "    Take the list of texts and turn into nlp spacy list.\n",
    "\n",
    "    Also, it removes stopwords words from the data, where spacy transformer\n",
    "    pipeline have the definition of stopwords.\n",
    "    (See: https://spacy.io/usage/spacy-101).\n",
    "\n",
    "    Parameters\n",
    "    ----------\n",
    "    texts : list\n",
    "        DESCRIPTION. List of texts\n",
    "\n",
    "    Returns\n",
    "    -------\n",
    "    list of nlp pipeline for each text.\n",
    "    \"\"\"\n",
    "    texts_out = []\n",
    "    nlp = spacy_USE.load_model('en_use_lg')\n",
    "    for text in texts:\n",
    "        doc = nlp(text)\n",
    "        texts_out.append([token.text for token in doc if not token.is_stop])\n",
    "\n",
    "    text_nlp = [' '.join(item) for item in texts_out]\n",
    "    text_pipe = [nlp(tex) for tex in text_nlp]\n",
    "\n",
    "    return text_pipe\n",
    "\n",
    "\n",
    "text_pipe = get_spacy_list(processed_text)\n",
    "\n",
    "df['nlp_doc'] = text_pipe\n",
    "df_final = df[['country', 'year', 'nlp_doc']]"
   ]
  },
  {
   "cell_type": "code",
   "execution_count": null,
   "metadata": {
    "id": "ahEBmRQpI4I9"
   },
   "outputs": [],
   "source": [
    "df_final.to_pickle('df_USE.pkl')"
   ]
  },
  {
   "cell_type": "markdown",
   "metadata": {
    "id": "FrLFSIWYKEAQ"
   },
   "source": [
    "**This step is only made to reduce memory usage. We could create order program file, but we wanted to maintain just one.**"
   ]
  },
  {
   "cell_type": "code",
   "execution_count": 41,
   "metadata": {
    "executionInfo": {
     "elapsed": 23221,
     "status": "ok",
     "timestamp": 1645105230315,
     "user": {
      "displayName": "Marcos Paulo Rodrigues Correia",
      "photoUrl": "https://lh3.googleusercontent.com/a-/AOh14GgJJKVzauVFgeqxJF7cNAYzylzNqf6TKVFoGJkHkQ=s64",
      "userId": "17171710957942158078"
     },
     "user_tz": 180
    },
    "id": "JNsJ-WdyKDYK"
   },
   "outputs": [],
   "source": [
    "df_final = pd.read_pickle('df_USE.pkl')"
   ]
  },
  {
   "cell_type": "markdown",
   "metadata": {
    "id": "0fn6YTyiLbUt"
   },
   "source": [
    "**Back in business**"
   ]
  },
  {
   "cell_type": "code",
   "execution_count": 42,
   "metadata": {
    "colab": {
     "base_uri": "https://localhost:8080/"
    },
    "executionInfo": {
     "elapsed": 47,
     "status": "ok",
     "timestamp": 1645105230317,
     "user": {
      "displayName": "Marcos Paulo Rodrigues Correia",
      "photoUrl": "https://lh3.googleusercontent.com/a-/AOh14GgJJKVzauVFgeqxJF7cNAYzylzNqf6TKVFoGJkHkQ=s64",
      "userId": "17171710957942158078"
     },
     "user_tz": 180
    },
    "id": "64-3T87foRe-",
    "outputId": "3afbe0f3-d70b-4985-8e5b-e166bfcde312"
   },
   "outputs": [
    {
     "name": "stdout",
     "output_type": "stream",
     "text": [
      "             year                                            nlp_doc\n",
      "country                                                             \n",
      "Afghanistan  1923  (afghanistan, completely, free, independent, a...\n",
      "Afghanistan  1931  (general, principles, faith, afghanistan, sacr...\n",
      "Afghanistan  1964  (god, almighty, organize, national, life, afgh...\n",
      "Afghanistan  1977  (nation, society, course, history, state, cons...\n",
      "Afghanistan  1987  (allah, beneficent, merciful, beloved, homelan...\n"
     ]
    }
   ],
   "source": [
    "base = df_final.set_index('country')\n",
    "print(base.head())"
   ]
  },
  {
   "cell_type": "code",
   "execution_count": 43,
   "metadata": {
    "executionInfo": {
     "elapsed": 34,
     "status": "ok",
     "timestamp": 1645105230318,
     "user": {
      "displayName": "Marcos Paulo Rodrigues Correia",
      "photoUrl": "https://lh3.googleusercontent.com/a-/AOh14GgJJKVzauVFgeqxJF7cNAYzylzNqf6TKVFoGJkHkQ=s64",
      "userId": "17171710957942158078"
     },
     "user_tz": 180
    },
    "id": "4R12JfdyrGMh"
   },
   "outputs": [],
   "source": [
    "base = base.drop('year', axis=1)\n"
   ]
  },
  {
   "cell_type": "code",
   "execution_count": 44,
   "metadata": {
    "colab": {
     "base_uri": "https://localhost:8080/"
    },
    "executionInfo": {
     "elapsed": 32,
     "status": "ok",
     "timestamp": 1645105230319,
     "user": {
      "displayName": "Marcos Paulo Rodrigues Correia",
      "photoUrl": "https://lh3.googleusercontent.com/a-/AOh14GgJJKVzauVFgeqxJF7cNAYzylzNqf6TKVFoGJkHkQ=s64",
      "userId": "17171710957942158078"
     },
     "user_tz": 180
    },
    "id": "Q0tTHzDkNgyL",
    "outputId": "a0e43ef3-bad7-4b92-f958-65e97cc3d30c"
   },
   "outputs": [
    {
     "data": {
      "text/plain": [
       "(617, 1)"
      ]
     },
     "execution_count": 44,
     "metadata": {},
     "output_type": "execute_result"
    }
   ],
   "source": [
    "base.shape"
   ]
  },
  {
   "cell_type": "code",
   "execution_count": null,
   "metadata": {
    "id": "HaNT_kKNJO5s"
   },
   "outputs": [],
   "source": [
    "# df_kenya = base.iloc[299:301]\n",
    "#kenya_0 = df_kenya.iloc[0,0]\n",
    "#kenya_1 = df_kenya.iloc[1,0]\n",
    "#result12_2 = kenya_0.similarity(kenya_1)"
   ]
  },
  {
   "cell_type": "markdown",
   "metadata": {
    "id": "G7HPHob9WOR8"
   },
   "source": [
    "**In this part we create the final data structure that we want to process**"
   ]
  },
  {
   "cell_type": "code",
   "execution_count": 15,
   "metadata": {
    "executionInfo": {
     "elapsed": 339,
     "status": "ok",
     "timestamp": 1645094064795,
     "user": {
      "displayName": "Marcos Paulo Rodrigues Correia",
      "photoUrl": "https://lh3.googleusercontent.com/a-/AOh14GgJJKVzauVFgeqxJF7cNAYzylzNqf6TKVFoGJkHkQ=s64",
      "userId": "17171710957942158078"
     },
     "user_tz": 180
    },
    "id": "BRqVuawiH2XM"
   },
   "outputs": [],
   "source": [
    "def get_dfs(dataframe):\n",
    "  \"\"\"Create a dictonary of dataframes for all countries.\"\"\"\n",
    "  \n",
    "  df_group = dataframe.groupby(['country'])\n",
    "  dfs = dict(tuple(df_group))\n",
    "\n",
    "  return dfs"
   ]
  },
  {
   "cell_type": "code",
   "execution_count": 46,
   "metadata": {
    "executionInfo": {
     "elapsed": 359,
     "status": "ok",
     "timestamp": 1645105271608,
     "user": {
      "displayName": "Marcos Paulo Rodrigues Correia",
      "photoUrl": "https://lh3.googleusercontent.com/a-/AOh14GgJJKVzauVFgeqxJF7cNAYzylzNqf6TKVFoGJkHkQ=s64",
      "userId": "17171710957942158078"
     },
     "user_tz": 180
    },
    "id": "hrftSnDlIFa-"
   },
   "outputs": [],
   "source": [
    "dfs = get_dfs(base)"
   ]
  },
  {
   "cell_type": "code",
   "execution_count": 47,
   "metadata": {
    "colab": {
     "base_uri": "https://localhost:8080/"
    },
    "executionInfo": {
     "elapsed": 395,
     "status": "ok",
     "timestamp": 1645105274826,
     "user": {
      "displayName": "Marcos Paulo Rodrigues Correia",
      "photoUrl": "https://lh3.googleusercontent.com/a-/AOh14GgJJKVzauVFgeqxJF7cNAYzylzNqf6TKVFoGJkHkQ=s64",
      "userId": "17171710957942158078"
     },
     "user_tz": 180
    },
    "id": "rtMkWnOt4UP9",
    "outputId": "26f12f1c-282a-4797-a8e5-7b161e9124b1"
   },
   "outputs": [
    {
     "name": "stdout",
     "output_type": "stream",
     "text": [
      "617\n"
     ]
    }
   ],
   "source": [
    "number = 0\n",
    "for country in dfs:\n",
    "  number += dfs[country].shape[0]\n",
    "print(number)"
   ]
  },
  {
   "cell_type": "code",
   "execution_count": 48,
   "metadata": {
    "executionInfo": {
     "elapsed": 361,
     "status": "ok",
     "timestamp": 1645105279384,
     "user": {
      "displayName": "Marcos Paulo Rodrigues Correia",
      "photoUrl": "https://lh3.googleusercontent.com/a-/AOh14GgJJKVzauVFgeqxJF7cNAYzylzNqf6TKVFoGJkHkQ=s64",
      "userId": "17171710957942158078"
     },
     "user_tz": 180
    },
    "id": "X5kJiWceQCqY"
   },
   "outputs": [],
   "source": [
    "def cosine_similarity_all(dictionary):\n",
    "  \"\"\"Compute the cosine similarity between to Spacy_pipeline processed texts.\n",
    "\n",
    "  Very Heavy program.\n",
    "  \"\"\"\n",
    "\n",
    "  similarity_sequence = []\n",
    "  for country in dictionary:\n",
    "    similarity_sequence.append(1.0)\n",
    "    for i in range(len(dictionary[country])-1):\n",
    "      sim = dictionary[country].iloc[i, 0].similarity(\n",
    "            dictionary[country].iloc[i+1, 0])\n",
    "      similarity_sequence.append(sim)\n",
    "  \n",
    "  return similarity_sequence"
   ]
  },
  {
   "cell_type": "code",
   "execution_count": 21,
   "metadata": {
    "colab": {
     "base_uri": "https://localhost:8080/"
    },
    "executionInfo": {
     "elapsed": 8259057,
     "status": "ok",
     "timestamp": 1645102834935,
     "user": {
      "displayName": "Marcos Paulo Rodrigues Correia",
      "photoUrl": "https://lh3.googleusercontent.com/a-/AOh14GgJJKVzauVFgeqxJF7cNAYzylzNqf6TKVFoGJkHkQ=s64",
      "userId": "17171710957942158078"
     },
     "user_tz": 180
    },
    "id": "4QWGRpe0Qzv4",
    "outputId": "860f8fa4-ec38-440c-adf2-07ec48286a22"
   },
   "outputs": [
    {
     "metadata": {
      "tags": null
     },
     "name": "stdout",
     "output_type": "stream",
     "text": [
      "Downloaded https://tfhub.dev/google/universal-sentence-encoder-large/5, Total size: 577.10MB\n",
      "\n"
     ]
    }
   ],
   "source": [
    "result = cosine_similarity_all(dfs)"
   ]
  },
  {
   "cell_type": "code",
   "execution_count": 49,
   "metadata": {
    "colab": {
     "base_uri": "https://localhost:8080/"
    },
    "executionInfo": {
     "elapsed": 370,
     "status": "ok",
     "timestamp": 1645105284290,
     "user": {
      "displayName": "Marcos Paulo Rodrigues Correia",
      "photoUrl": "https://lh3.googleusercontent.com/a-/AOh14GgJJKVzauVFgeqxJF7cNAYzylzNqf6TKVFoGJkHkQ=s64",
      "userId": "17171710957942158078"
     },
     "user_tz": 180
    },
    "id": "UlFE4T_X1YH_",
    "outputId": "fc6ffab2-ce1f-4d61-a524-23e49cef02c5"
   },
   "outputs": [
    {
     "name": "stdout",
     "output_type": "stream",
     "text": [
      "       country  year  similarity\n",
      "0  Afghanistan  1923    1.000000\n",
      "1  Afghanistan  1931    0.944877\n",
      "2  Afghanistan  1964    0.878636\n",
      "3  Afghanistan  1977    0.955040\n",
      "4  Afghanistan  1987    0.971161\n"
     ]
    }
   ],
   "source": [
    "df_sequence = df_final.drop('nlp_doc', axis=1)\n",
    "df_sequence['similarity'] = result\n",
    "print(df_sequence.head())"
   ]
  },
  {
   "cell_type": "code",
   "execution_count": 50,
   "metadata": {
    "executionInfo": {
     "elapsed": 355,
     "status": "ok",
     "timestamp": 1645105321754,
     "user": {
      "displayName": "Marcos Paulo Rodrigues Correia",
      "photoUrl": "https://lh3.googleusercontent.com/a-/AOh14GgJJKVzauVFgeqxJF7cNAYzylzNqf6TKVFoGJkHkQ=s64",
      "userId": "17171710957942158078"
     },
     "user_tz": 180
    },
    "id": "MzdIXqwR6py0"
   },
   "outputs": [],
   "source": [
    "df_sequence.to_csv('similarity_USE.csv')"
   ]
  },
  {
   "cell_type": "markdown",
   "metadata": {
    "id": "9DFXj3PXnNX1"
   },
   "source": [
    "# **Alert**\n",
    "**This program above (to measure similarity) is heavy even for 35 gb of ram. We've tried to solve this issue by slicing the list and making the process separately for each part. You don't need to run any of this, it was only created to see which constitutionals were to heavy for the above program to run smoothly in a budget computer.**"
   ]
  },
  {
   "cell_type": "code",
   "execution_count": 18,
   "metadata": {
    "colab": {
     "base_uri": "https://localhost:8080/"
    },
    "executionInfo": {
     "elapsed": 364,
     "status": "ok",
     "timestamp": 1645094093375,
     "user": {
      "displayName": "Marcos Paulo Rodrigues Correia",
      "photoUrl": "https://lh3.googleusercontent.com/a-/AOh14GgJJKVzauVFgeqxJF7cNAYzylzNqf6TKVFoGJkHkQ=s64",
      "userId": "17171710957942158078"
     },
     "user_tz": 180
    },
    "id": "g6GwOJ3LIKmg",
    "outputId": "c3def39d-cc8a-4b15-e765-afd56636b4d9"
   },
   "outputs": [
    {
     "name": "stdout",
     "output_type": "stream",
     "text": [
      "['Afghanistan', 'Albania', 'Algeria', 'Andorra', 'Angola', 'Antigua Barbuda', 'Argentina', 'Armenia', 'Australia', 'Austria', 'Austria Hungary', 'Azerbaijan', 'Baden', 'Bahamas', 'Bahrain', 'Bangladesh', 'Barbados', 'Bavaria', 'Belarus', 'Belgium', 'Belize', 'Benin', 'Bhutan', 'Bolivia', 'BosniaAndHerzegovina', 'Botswana', 'Brazil', 'Bulgaria', 'Burkina Faso', 'Burundi', 'Cambodia', 'Cameroon', 'Canada', 'Cape Verde', 'Caribbean Charter', 'Central African Republic', 'Chad', 'Chile', 'China', 'Colombia', 'Comoros', 'Congo', 'Costa Rica', 'Croatia', 'Cuba', 'Cyprus', 'Czech Republic', 'Czechoslovakia', 'Democratic Republic of the Congo', 'Denmark', 'Djibouti', 'Dominica', 'Dominican Republic', 'East Timor', 'Ecuador', 'Egypt', 'El Salvador', 'Equatorial Guinea', 'Eritrea', 'Estonia', 'Ethiopia', 'Fiji', 'Finland', 'France', 'Gabon', 'Gambia', 'Georgia', 'German Democratic Republic', 'Germany', 'Germany Federal Republic', 'Germany(Prussia)', 'Ghana', 'Great Colombia', 'Greece', 'Grenada', 'Guatemala', 'Guinea', 'Guinea Bissau', 'Guyana', 'Haiti', 'Honduras', 'Hungary', 'Iceland', 'India', 'Indonesia', 'Iran', 'Iraq', 'Ireland', 'Israel', 'Italy', 'Jamaica', 'Japan', 'Jordan', 'Kazakhstan', 'Kenya', 'Kiribati', 'Kosovo', 'Kuwait', 'Kyrgyz', 'Laos', 'Latvia', 'Lebanon', 'Lesotho', 'Liberia', 'Libya', 'Liechtenstein', 'Lithuania', 'Luxembourg', 'Macedonia', 'Madagascar', 'Malawi', 'Malaysia', 'Maldives', 'Mali', 'Malta', 'Marshall Islands', 'Mauritania', 'Mauritius', 'Mexico', 'Micronesia', 'Moldova', 'Monaco', 'Mongolia', 'Montenegro', 'Morocco', 'Mozambique', 'Myanmar', 'Namibia', 'Nauru', 'Nepal', 'Netherlands', 'New zealand', 'Nicaragua', 'Niger', 'Nigeria', 'North Korea', 'Norway', 'Oman', 'Pakistan', 'Palau', 'Panama', 'Papua New Guinea', 'Paraguay', 'Peru', 'Philippines', 'Poland', 'Portugal', 'Qatar', 'Republic of Vietnam', 'Romania', 'Russia', 'Rwanda', 'Saint Kitts and Nevis', 'Saint Lucia', 'Saint Vincent and the Grenadines', 'Samoa', 'Sao Tome and Principe', 'Saudi Arabia', 'Senegal', 'Seychelles', 'Sierra Leone', 'Singapore', 'Slovakia', 'Slovenia', 'Solomon Islands', 'Somalia', 'South Africa', 'South Korea', 'South Sudan', 'Spain', 'Sri Lanka', 'Sudan', 'Suriname', 'Swaziland', 'Sweden', 'Switzerland', 'Syria', 'Taiwan', 'Tajikistan', 'Tanzania', 'Thailand', 'Tibet', 'Togo', 'Tonga', 'Trinidad and Tobago', 'Tunisia', 'Turkey', 'Turkmenistan', 'Tuvalu', 'Uganda', 'Ukraine', 'United Arab Emirates', 'United states', 'Uruguay', 'Uzbekistan', 'Vanuatu', 'Vatican City', 'Venezuela', 'Vietnam', 'Yemen Arab Republic', 'Yugoslavia', 'Yugoslavia(Serbia)', 'Zambia', 'Zimbabwe']\n",
      "204\n"
     ]
    }
   ],
   "source": [
    "keys = list(dfs.keys())\n",
    "print(keys)\n",
    "print(len(keys))"
   ]
  },
  {
   "cell_type": "code",
   "execution_count": null,
   "metadata": {
    "executionInfo": {
     "elapsed": 430,
     "status": "aborted",
     "timestamp": 1645094065583,
     "user": {
      "displayName": "Marcos Paulo Rodrigues Correia",
      "photoUrl": "https://lh3.googleusercontent.com/a-/AOh14GgJJKVzauVFgeqxJF7cNAYzylzNqf6TKVFoGJkHkQ=s64",
      "userId": "17171710957942158078"
     },
     "user_tz": 180
    },
    "id": "6PNqZSMwK0nt"
   },
   "outputs": [],
   "source": [
    "keys1 = keys[0:10]\n",
    "keys2 = keys[10:20]\n",
    "keys3 = keys[20:30]\n",
    "keys4 = keys[30:40]\n",
    "keys5 = keys[40:50]\n",
    "keys6 = keys[50:60]\n",
    "keys7 = keys[60:70]\n",
    "keys8 = keys[70:80]\n",
    "keys9 = keys[80:85]\n",
    "keys10 = keys[85:90]\n",
    "keys11 = keys[90:92]\n",
    "keys12 = keys[92:93]\n",
    "keys12_1 = keys[93:94]\n",
    "keys12_2 = keys[94:95]\n",
    "keys13 = keys[95:100]\n",
    "keys14 = keys[100:110]\n",
    "keys15 = keys[110:120]\n",
    "keys16 = keys[120:130]\n",
    "keys17 = keys[130:140]\n",
    "keys18 = keys[140:150]\n",
    "keys19 = keys[150:160]\n",
    "keys20 = keys[160:170]\n",
    "keys21 = keys[170:180]\n",
    "keys22 = keys[180:190]\n",
    "keys23 = keys[190:200]\n",
    "keys24 = keys[200:210]"
   ]
  },
  {
   "cell_type": "code",
   "execution_count": null,
   "metadata": {
    "executionInfo": {
     "elapsed": 429,
     "status": "aborted",
     "timestamp": 1645094065583,
     "user": {
      "displayName": "Marcos Paulo Rodrigues Correia",
      "photoUrl": "https://lh3.googleusercontent.com/a-/AOh14GgJJKVzauVFgeqxJF7cNAYzylzNqf6TKVFoGJkHkQ=s64",
      "userId": "17171710957942158078"
     },
     "user_tz": 180
    },
    "id": "swk-NrzPMRXu"
   },
   "outputs": [],
   "source": [
    "dfs1 = {x:dfs[x] for x in keys1}\n",
    "dfs2 = {x:dfs[x] for x in keys2}\n",
    "dfs3 = {x:dfs[x] for x in keys3}\n",
    "dfs4 = {x:dfs[x] for x in keys4}\n",
    "dfs5 = {x:dfs[x] for x in keys5}\n",
    "dfs6 = {x:dfs[x] for x in keys6}\n",
    "dfs7 = {x:dfs[x] for x in keys7}\n",
    "dfs8 = {x:dfs[x] for x in keys8}\n",
    "dfs9 = {x:dfs[x] for x in keys9}\n",
    "dfs10 = {x:dfs[x] for x in keys10}\n",
    "dfs11 = {x:dfs[x] for x in keys11}\n",
    "dfs12 = {x:dfs[x] for x in keys12}\n",
    "dfs12_1 = {x:dfs[x] for x in keys12_1}\n",
    "dfs12_2 = {x:dfs[x] for x in keys12_2}\n",
    "dfs13 = {x:dfs[x] for x in keys13}\n",
    "dfs14 = {x:dfs[x] for x in keys14}\n",
    "dfs15 = {x:dfs[x] for x in keys15}\n",
    "dfs16 = {x:dfs[x] for x in keys16}\n",
    "dfs17 = {x:dfs[x] for x in keys17}\n",
    "dfs18 = {x:dfs[x] for x in keys18}\n",
    "dfs19 = {x:dfs[x] for x in keys19}\n",
    "dfs20 = {x:dfs[x] for x in keys20}\n",
    "dfs21 = {x:dfs[x] for x in keys21}\n",
    "dfs22 = {x:dfs[x] for x in keys22}\n",
    "dfs23 = {x:dfs[x] for x in keys23}\n",
    "dfs24 = {x:dfs[x] for x in keys24}"
   ]
  },
  {
   "cell_type": "code",
   "execution_count": null,
   "metadata": {
    "executionInfo": {
     "elapsed": 430,
     "status": "aborted",
     "timestamp": 1645094065584,
     "user": {
      "displayName": "Marcos Paulo Rodrigues Correia",
      "photoUrl": "https://lh3.googleusercontent.com/a-/AOh14GgJJKVzauVFgeqxJF7cNAYzylzNqf6TKVFoGJkHkQ=s64",
      "userId": "17171710957942158078"
     },
     "user_tz": 180
    },
    "id": "7i3DtIwtrrb-"
   },
   "outputs": [],
   "source": [
    "# print(dfs12['Jordan'].nlp_doc)"
   ]
  },
  {
   "cell_type": "code",
   "execution_count": null,
   "metadata": {
    "executionInfo": {
     "elapsed": 430,
     "status": "aborted",
     "timestamp": 1645094065584,
     "user": {
      "displayName": "Marcos Paulo Rodrigues Correia",
      "photoUrl": "https://lh3.googleusercontent.com/a-/AOh14GgJJKVzauVFgeqxJF7cNAYzylzNqf6TKVFoGJkHkQ=s64",
      "userId": "17171710957942158078"
     },
     "user_tz": 180
    },
    "id": "esPN82fynMRd"
   },
   "outputs": [],
   "source": [
    "def cosine_similarity_use(dictionary):\n",
    "  \"\"\"Compute the cosine similarity between to Spacy_pipeline processed texts.\n",
    "\n",
    "  Very Heavy program.\n",
    "  \"\"\"\n",
    "\n",
    "  similarity_sequence = []\n",
    "  for country in dictionary:\n",
    "    similarity_sequence.append(1.0)\n",
    "    for i in range(len(dictionary[country])-1):\n",
    "        sim = dictionary[country].iloc[i, 0].similarity(\n",
    "            dictionary[country].iloc[i+1, 0])\n",
    "        similarity_sequence.append(sim)\n",
    "  \n",
    "  return similarity_sequence"
   ]
  },
  {
   "cell_type": "code",
   "execution_count": null,
   "metadata": {
    "executionInfo": {
     "elapsed": 429,
     "status": "aborted",
     "timestamp": 1645094065584,
     "user": {
      "displayName": "Marcos Paulo Rodrigues Correia",
      "photoUrl": "https://lh3.googleusercontent.com/a-/AOh14GgJJKVzauVFgeqxJF7cNAYzylzNqf6TKVFoGJkHkQ=s64",
      "userId": "17171710957942158078"
     },
     "user_tz": 180
    },
    "id": "7VXroHVNnhc7"
   },
   "outputs": [],
   "source": [
    "result1 = cosine_similarity_use(dfs1)"
   ]
  },
  {
   "cell_type": "code",
   "execution_count": null,
   "metadata": {
    "executionInfo": {
     "elapsed": 430,
     "status": "aborted",
     "timestamp": 1645094065585,
     "user": {
      "displayName": "Marcos Paulo Rodrigues Correia",
      "photoUrl": "https://lh3.googleusercontent.com/a-/AOh14GgJJKVzauVFgeqxJF7cNAYzylzNqf6TKVFoGJkHkQ=s64",
      "userId": "17171710957942158078"
     },
     "user_tz": 180
    },
    "id": "PBJKmdhrGVPR"
   },
   "outputs": [],
   "source": [
    "result2 = cosine_similarity_use(dfs2)"
   ]
  },
  {
   "cell_type": "code",
   "execution_count": null,
   "metadata": {
    "executionInfo": {
     "elapsed": 42,
     "status": "aborted",
     "timestamp": 1645094065585,
     "user": {
      "displayName": "Marcos Paulo Rodrigues Correia",
      "photoUrl": "https://lh3.googleusercontent.com/a-/AOh14GgJJKVzauVFgeqxJF7cNAYzylzNqf6TKVFoGJkHkQ=s64",
      "userId": "17171710957942158078"
     },
     "user_tz": 180
    },
    "id": "dO85YSed_3me"
   },
   "outputs": [],
   "source": [
    "result3 = cosine_similarity_use(dfs3)"
   ]
  },
  {
   "cell_type": "code",
   "execution_count": null,
   "metadata": {
    "executionInfo": {
     "elapsed": 42,
     "status": "aborted",
     "timestamp": 1645094065586,
     "user": {
      "displayName": "Marcos Paulo Rodrigues Correia",
      "photoUrl": "https://lh3.googleusercontent.com/a-/AOh14GgJJKVzauVFgeqxJF7cNAYzylzNqf6TKVFoGJkHkQ=s64",
      "userId": "17171710957942158078"
     },
     "user_tz": 180
    },
    "id": "843-4p6oGWgM"
   },
   "outputs": [],
   "source": [
    "result4 = cosine_similarity_use(dfs4)"
   ]
  },
  {
   "cell_type": "code",
   "execution_count": null,
   "metadata": {
    "executionInfo": {
     "elapsed": 42,
     "status": "aborted",
     "timestamp": 1645094065586,
     "user": {
      "displayName": "Marcos Paulo Rodrigues Correia",
      "photoUrl": "https://lh3.googleusercontent.com/a-/AOh14GgJJKVzauVFgeqxJF7cNAYzylzNqf6TKVFoGJkHkQ=s64",
      "userId": "17171710957942158078"
     },
     "user_tz": 180
    },
    "id": "P5abzPL5_6Rf"
   },
   "outputs": [],
   "source": [
    "result5 = cosine_similarity_use(dfs5)"
   ]
  },
  {
   "cell_type": "code",
   "execution_count": null,
   "metadata": {
    "executionInfo": {
     "elapsed": 42,
     "status": "aborted",
     "timestamp": 1645094065587,
     "user": {
      "displayName": "Marcos Paulo Rodrigues Correia",
      "photoUrl": "https://lh3.googleusercontent.com/a-/AOh14GgJJKVzauVFgeqxJF7cNAYzylzNqf6TKVFoGJkHkQ=s64",
      "userId": "17171710957942158078"
     },
     "user_tz": 180
    },
    "id": "M6F-UM7EGYDf"
   },
   "outputs": [],
   "source": [
    "result6 = cosine_similarity_use(dfs6)"
   ]
  },
  {
   "cell_type": "code",
   "execution_count": null,
   "metadata": {
    "executionInfo": {
     "elapsed": 42,
     "status": "aborted",
     "timestamp": 1645094065587,
     "user": {
      "displayName": "Marcos Paulo Rodrigues Correia",
      "photoUrl": "https://lh3.googleusercontent.com/a-/AOh14GgJJKVzauVFgeqxJF7cNAYzylzNqf6TKVFoGJkHkQ=s64",
      "userId": "17171710957942158078"
     },
     "user_tz": 180
    },
    "id": "iwPkydqk_-q4"
   },
   "outputs": [],
   "source": [
    "result7 = cosine_similarity_use(dfs7)"
   ]
  },
  {
   "cell_type": "code",
   "execution_count": null,
   "metadata": {
    "executionInfo": {
     "elapsed": 42,
     "status": "aborted",
     "timestamp": 1645094065588,
     "user": {
      "displayName": "Marcos Paulo Rodrigues Correia",
      "photoUrl": "https://lh3.googleusercontent.com/a-/AOh14GgJJKVzauVFgeqxJF7cNAYzylzNqf6TKVFoGJkHkQ=s64",
      "userId": "17171710957942158078"
     },
     "user_tz": 180
    },
    "id": "lQsQ6l74GZHw"
   },
   "outputs": [],
   "source": [
    "result8 = cosine_similarity_use(dfs8)"
   ]
  },
  {
   "cell_type": "code",
   "execution_count": null,
   "metadata": {
    "executionInfo": {
     "elapsed": 39,
     "status": "aborted",
     "timestamp": 1645094065588,
     "user": {
      "displayName": "Marcos Paulo Rodrigues Correia",
      "photoUrl": "https://lh3.googleusercontent.com/a-/AOh14GgJJKVzauVFgeqxJF7cNAYzylzNqf6TKVFoGJkHkQ=s64",
      "userId": "17171710957942158078"
     },
     "user_tz": 180
    },
    "id": "UzR8-VAXACB7"
   },
   "outputs": [],
   "source": [
    "result9 = cosine_similarity_use(dfs9)"
   ]
  },
  {
   "cell_type": "code",
   "execution_count": null,
   "metadata": {
    "executionInfo": {
     "elapsed": 39,
     "status": "aborted",
     "timestamp": 1645094065589,
     "user": {
      "displayName": "Marcos Paulo Rodrigues Correia",
      "photoUrl": "https://lh3.googleusercontent.com/a-/AOh14GgJJKVzauVFgeqxJF7cNAYzylzNqf6TKVFoGJkHkQ=s64",
      "userId": "17171710957942158078"
     },
     "user_tz": 180
    },
    "id": "IZPNjk8vGl1g"
   },
   "outputs": [],
   "source": [
    "result10 = cosine_similarity_use(dfs10)"
   ]
  },
  {
   "cell_type": "code",
   "execution_count": null,
   "metadata": {
    "executionInfo": {
     "elapsed": 38,
     "status": "aborted",
     "timestamp": 1645094065589,
     "user": {
      "displayName": "Marcos Paulo Rodrigues Correia",
      "photoUrl": "https://lh3.googleusercontent.com/a-/AOh14GgJJKVzauVFgeqxJF7cNAYzylzNqf6TKVFoGJkHkQ=s64",
      "userId": "17171710957942158078"
     },
     "user_tz": 180
    },
    "id": "jcBVnaMAAQ0e"
   },
   "outputs": [],
   "source": [
    "result11 = cosine_similarity_use(dfs11)"
   ]
  },
  {
   "cell_type": "code",
   "execution_count": null,
   "metadata": {
    "executionInfo": {
     "elapsed": 39,
     "status": "aborted",
     "timestamp": 1645094065590,
     "user": {
      "displayName": "Marcos Paulo Rodrigues Correia",
      "photoUrl": "https://lh3.googleusercontent.com/a-/AOh14GgJJKVzauVFgeqxJF7cNAYzylzNqf6TKVFoGJkHkQ=s64",
      "userId": "17171710957942158078"
     },
     "user_tz": 180
    },
    "id": "AP8QWCFSAhNX"
   },
   "outputs": [],
   "source": [
    "result12 = cosine_similarity_use(dfs12)"
   ]
  },
  {
   "cell_type": "code",
   "execution_count": null,
   "metadata": {
    "executionInfo": {
     "elapsed": 38,
     "status": "aborted",
     "timestamp": 1645094065590,
     "user": {
      "displayName": "Marcos Paulo Rodrigues Correia",
      "photoUrl": "https://lh3.googleusercontent.com/a-/AOh14GgJJKVzauVFgeqxJF7cNAYzylzNqf6TKVFoGJkHkQ=s64",
      "userId": "17171710957942158078"
     },
     "user_tz": 180
    },
    "id": "l9WCES-MHEvm"
   },
   "outputs": [],
   "source": [
    "result12_1 = cosine_similarity_use(dfs12_1)"
   ]
  },
  {
   "cell_type": "markdown",
   "metadata": {
    "id": "rfhpBn1crnF4"
   },
   "source": [
    "**carefull: This cel runs out of memory even if it is just one country similarity.**"
   ]
  },
  {
   "cell_type": "code",
   "execution_count": null,
   "metadata": {
    "executionInfo": {
     "elapsed": 38,
     "status": "aborted",
     "timestamp": 1645094065590,
     "user": {
      "displayName": "Marcos Paulo Rodrigues Correia",
      "photoUrl": "https://lh3.googleusercontent.com/a-/AOh14GgJJKVzauVFgeqxJF7cNAYzylzNqf6TKVFoGJkHkQ=s64",
      "userId": "17171710957942158078"
     },
     "user_tz": 180
    },
    "id": "uZ-wqD0wHHdF"
   },
   "outputs": [],
   "source": [
    "result12_2 = cosine_similarity_use(dfs12_2)"
   ]
  },
  {
   "cell_type": "code",
   "execution_count": null,
   "metadata": {
    "executionInfo": {
     "elapsed": 39,
     "status": "aborted",
     "timestamp": 1645094065591,
     "user": {
      "displayName": "Marcos Paulo Rodrigues Correia",
      "photoUrl": "https://lh3.googleusercontent.com/a-/AOh14GgJJKVzauVFgeqxJF7cNAYzylzNqf6TKVFoGJkHkQ=s64",
      "userId": "17171710957942158078"
     },
     "user_tz": 180
    },
    "id": "cgaWq86qXj1r"
   },
   "outputs": [],
   "source": [
    "result13 = cosine_similarity_use(dfs13)"
   ]
  },
  {
   "cell_type": "code",
   "execution_count": null,
   "metadata": {
    "executionInfo": {
     "elapsed": 39,
     "status": "aborted",
     "timestamp": 1645094065591,
     "user": {
      "displayName": "Marcos Paulo Rodrigues Correia",
      "photoUrl": "https://lh3.googleusercontent.com/a-/AOh14GgJJKVzauVFgeqxJF7cNAYzylzNqf6TKVFoGJkHkQ=s64",
      "userId": "17171710957942158078"
     },
     "user_tz": 180
    },
    "id": "ozdCgv0PXsLZ"
   },
   "outputs": [],
   "source": [
    "result14 = cosine_similarity_use(dfs14)"
   ]
  },
  {
   "cell_type": "code",
   "execution_count": null,
   "metadata": {
    "executionInfo": {
     "elapsed": 39,
     "status": "aborted",
     "timestamp": 1645094065592,
     "user": {
      "displayName": "Marcos Paulo Rodrigues Correia",
      "photoUrl": "https://lh3.googleusercontent.com/a-/AOh14GgJJKVzauVFgeqxJF7cNAYzylzNqf6TKVFoGJkHkQ=s64",
      "userId": "17171710957942158078"
     },
     "user_tz": 180
    },
    "id": "cotYtPPsXuf1"
   },
   "outputs": [],
   "source": [
    "result15 = cosine_similarity_use(dfs15)"
   ]
  },
  {
   "cell_type": "code",
   "execution_count": null,
   "metadata": {
    "executionInfo": {
     "elapsed": 39,
     "status": "aborted",
     "timestamp": 1645094065592,
     "user": {
      "displayName": "Marcos Paulo Rodrigues Correia",
      "photoUrl": "https://lh3.googleusercontent.com/a-/AOh14GgJJKVzauVFgeqxJF7cNAYzylzNqf6TKVFoGJkHkQ=s64",
      "userId": "17171710957942158078"
     },
     "user_tz": 180
    },
    "id": "-WWkO1LOXwlV"
   },
   "outputs": [],
   "source": [
    "result16 = cosine_similarity_use(dfs16)"
   ]
  },
  {
   "cell_type": "code",
   "execution_count": null,
   "metadata": {
    "executionInfo": {
     "elapsed": 40,
     "status": "aborted",
     "timestamp": 1645094065593,
     "user": {
      "displayName": "Marcos Paulo Rodrigues Correia",
      "photoUrl": "https://lh3.googleusercontent.com/a-/AOh14GgJJKVzauVFgeqxJF7cNAYzylzNqf6TKVFoGJkHkQ=s64",
      "userId": "17171710957942158078"
     },
     "user_tz": 180
    },
    "id": "OmP4JCbHX8J1"
   },
   "outputs": [],
   "source": [
    "result17 = cosine_similarity_use(dfs17)"
   ]
  },
  {
   "cell_type": "code",
   "execution_count": null,
   "metadata": {
    "executionInfo": {
     "elapsed": 40,
     "status": "aborted",
     "timestamp": 1645094065593,
     "user": {
      "displayName": "Marcos Paulo Rodrigues Correia",
      "photoUrl": "https://lh3.googleusercontent.com/a-/AOh14GgJJKVzauVFgeqxJF7cNAYzylzNqf6TKVFoGJkHkQ=s64",
      "userId": "17171710957942158078"
     },
     "user_tz": 180
    },
    "id": "Ott7RhdWX9sZ"
   },
   "outputs": [],
   "source": [
    "result18 = cosine_similarity_use(dfs18)"
   ]
  },
  {
   "cell_type": "code",
   "execution_count": null,
   "metadata": {
    "executionInfo": {
     "elapsed": 39,
     "status": "aborted",
     "timestamp": 1645094065593,
     "user": {
      "displayName": "Marcos Paulo Rodrigues Correia",
      "photoUrl": "https://lh3.googleusercontent.com/a-/AOh14GgJJKVzauVFgeqxJF7cNAYzylzNqf6TKVFoGJkHkQ=s64",
      "userId": "17171710957942158078"
     },
     "user_tz": 180
    },
    "id": "EviPIo_yf3bq"
   },
   "outputs": [],
   "source": [
    "result19 = cosine_similarity_use(dfs19)"
   ]
  },
  {
   "cell_type": "code",
   "execution_count": null,
   "metadata": {
    "executionInfo": {
     "elapsed": 39,
     "status": "aborted",
     "timestamp": 1645094065594,
     "user": {
      "displayName": "Marcos Paulo Rodrigues Correia",
      "photoUrl": "https://lh3.googleusercontent.com/a-/AOh14GgJJKVzauVFgeqxJF7cNAYzylzNqf6TKVFoGJkHkQ=s64",
      "userId": "17171710957942158078"
     },
     "user_tz": 180
    },
    "id": "Jr7NmgUDf6vM"
   },
   "outputs": [],
   "source": [
    "result20 = cosine_similarity_use(dfs20)"
   ]
  },
  {
   "cell_type": "code",
   "execution_count": null,
   "metadata": {
    "executionInfo": {
     "elapsed": 39,
     "status": "aborted",
     "timestamp": 1645094065595,
     "user": {
      "displayName": "Marcos Paulo Rodrigues Correia",
      "photoUrl": "https://lh3.googleusercontent.com/a-/AOh14GgJJKVzauVFgeqxJF7cNAYzylzNqf6TKVFoGJkHkQ=s64",
      "userId": "17171710957942158078"
     },
     "user_tz": 180
    },
    "id": "KfecxiWjf852"
   },
   "outputs": [],
   "source": [
    "result21 = cosine_similarity_use(dfs21)"
   ]
  },
  {
   "cell_type": "code",
   "execution_count": null,
   "metadata": {
    "executionInfo": {
     "elapsed": 38,
     "status": "aborted",
     "timestamp": 1645094065595,
     "user": {
      "displayName": "Marcos Paulo Rodrigues Correia",
      "photoUrl": "https://lh3.googleusercontent.com/a-/AOh14GgJJKVzauVFgeqxJF7cNAYzylzNqf6TKVFoGJkHkQ=s64",
      "userId": "17171710957942158078"
     },
     "user_tz": 180
    },
    "id": "ZnQk5PIBCYM5"
   },
   "outputs": [],
   "source": [
    "result22 = cosine_similarity_use(dfs22)"
   ]
  },
  {
   "cell_type": "code",
   "execution_count": null,
   "metadata": {
    "executionInfo": {
     "elapsed": 38,
     "status": "aborted",
     "timestamp": 1645094065596,
     "user": {
      "displayName": "Marcos Paulo Rodrigues Correia",
      "photoUrl": "https://lh3.googleusercontent.com/a-/AOh14GgJJKVzauVFgeqxJF7cNAYzylzNqf6TKVFoGJkHkQ=s64",
      "userId": "17171710957942158078"
     },
     "user_tz": 180
    },
    "id": "Ptkh0c6XM2NI"
   },
   "outputs": [],
   "source": [
    "result23 = cosine_similarity_use(dfs23)"
   ]
  },
  {
   "cell_type": "code",
   "execution_count": null,
   "metadata": {
    "executionInfo": {
     "elapsed": 40,
     "status": "aborted",
     "timestamp": 1645094065598,
     "user": {
      "displayName": "Marcos Paulo Rodrigues Correia",
      "photoUrl": "https://lh3.googleusercontent.com/a-/AOh14GgJJKVzauVFgeqxJF7cNAYzylzNqf6TKVFoGJkHkQ=s64",
      "userId": "17171710957942158078"
     },
     "user_tz": 180
    },
    "id": "yHQBlIZuM3yf"
   },
   "outputs": [],
   "source": [
    "result24 = cosine_similarity_use(dfs24)"
   ]
  },
  {
   "cell_type": "code",
   "execution_count": null,
   "metadata": {
    "executionInfo": {
     "elapsed": 40,
     "status": "aborted",
     "timestamp": 1645094065599,
     "user": {
      "displayName": "Marcos Paulo Rodrigues Correia",
      "photoUrl": "https://lh3.googleusercontent.com/a-/AOh14GgJJKVzauVFgeqxJF7cNAYzylzNqf6TKVFoGJkHkQ=s64",
      "userId": "17171710957942158078"
     },
     "user_tz": 180
    },
    "id": "i1h2rr8iJKAL"
   },
   "outputs": [],
   "source": [
    "result12_2"
   ]
  },
  {
   "cell_type": "code",
   "execution_count": null,
   "metadata": {
    "executionInfo": {
     "elapsed": 39,
     "status": "aborted",
     "timestamp": 1645094065599,
     "user": {
      "displayName": "Marcos Paulo Rodrigues Correia",
      "photoUrl": "https://lh3.googleusercontent.com/a-/AOh14GgJJKVzauVFgeqxJF7cNAYzylzNqf6TKVFoGJkHkQ=s64",
      "userId": "17171710957942158078"
     },
     "user_tz": 180
    },
    "id": "z05H0K5vgLkw"
   },
   "outputs": [],
   "source": [
    "from itertools import chain\n",
    "similarity_sequence = list(chain(result1, result2, result3, result4, result5,\n",
    "                                 result6, result7, result8, result9, result10,\n",
    "                                 result11, result12, result12_1, result12_2,\n",
    "                                 result13, result14,\n",
    "                                 result15, result16, result17, result18,\n",
    "                                 result19, result20, result21, result22,\n",
    "                                 result23, result24))"
   ]
  },
  {
   "cell_type": "code",
   "execution_count": null,
   "metadata": {
    "executionInfo": {
     "elapsed": 39,
     "status": "aborted",
     "timestamp": 1645094065600,
     "user": {
      "displayName": "Marcos Paulo Rodrigues Correia",
      "photoUrl": "https://lh3.googleusercontent.com/a-/AOh14GgJJKVzauVFgeqxJF7cNAYzylzNqf6TKVFoGJkHkQ=s64",
      "userId": "17171710957942158078"
     },
     "user_tz": 180
    },
    "id": "4RzXNqBGWr9T"
   },
   "outputs": [],
   "source": [
    "df_sequence = df_final.drop('nlp_doc', axis=1)\n",
    "df_sequence['similarity'] = similarity_sequence\n",
    "print(df_sequence.head())"
   ]
  }
 ],
 "metadata": {
  "colab": {
   "authorship_tag": "ABX9TyPNXj2zGGPEdT1iRaW7T6KE",
   "machine_shape": "hm",
   "name": "semantic_similarity.ipynb",
   "provenance": []
  },
  "kernelspec": {
   "display_name": "Python 3 (ipykernel)",
   "language": "python",
   "name": "python3"
  },
  "language_info": {
   "codemirror_mode": {
    "name": "ipython",
    "version": 3
   },
   "file_extension": ".py",
   "mimetype": "text/x-python",
   "name": "python",
   "nbconvert_exporter": "python",
   "pygments_lexer": "ipython3",
   "version": "3.8.8"
  }
 },
 "nbformat": 4,
 "nbformat_minor": 1
}
